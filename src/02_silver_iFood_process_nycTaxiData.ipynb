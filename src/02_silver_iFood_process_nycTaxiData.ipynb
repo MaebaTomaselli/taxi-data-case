{
 "cells": [
  {
   "cell_type": "markdown",
   "metadata": {
    "application/vnd.databricks.v1+cell": {
     "cellMetadata": {
      "byteLimit": 2048000,
      "rowLimit": 10000
     },
     "inputWidgets": {},
     "nuid": "42391f19-c107-4a15-9dd1-a58cacea12b6",
     "showTitle": false,
     "tableResultSettingsMap": {},
     "title": ""
    },
    "jupyter": {
     "outputs_hidden": true
    }
   },
   "source": [
    "# Processamento dos dados de viagens de táxis de Nova York - dados da NYC"
   ]
  },
  {
   "cell_type": "markdown",
   "metadata": {
    "application/vnd.databricks.v1+cell": {
     "cellMetadata": {},
     "inputWidgets": {},
     "nuid": "a0a41d61-d4f7-48af-9770-66a36861cf21",
     "showTitle": false,
     "tableResultSettingsMap": {},
     "title": ""
    }
   },
   "source": [
    "* Limpeza e padronização dos dados\n",
    "* Enriquecimento: inclusão de colunas de metadados - veículo, ano, mês, nome arquivo\n",
    "* Manutenção de todas as colunas: permitir análises futuras\n",
    "* Manutenção de todos os veículos: permitir análises futuras\n",
    "* Particionamento ano e mês: otimização de salvamento e consulta"
   ]
  },
  {
   "cell_type": "markdown",
   "metadata": {
    "application/vnd.databricks.v1+cell": {
     "cellMetadata": {},
     "inputWidgets": {},
     "nuid": "72666cf6-0a0f-4909-9d67-3de2a325dd84",
     "showTitle": false,
     "tableResultSettingsMap": {},
     "title": ""
    }
   },
   "source": [
    "## Camada silver"
   ]
  },
  {
   "cell_type": "markdown",
   "metadata": {
    "application/vnd.databricks.v1+cell": {
     "cellMetadata": {
      "byteLimit": 2048000,
      "rowLimit": 10000
     },
     "inputWidgets": {},
     "nuid": "6197669d-0dcb-4c00-b8f2-11e7e91f1b22",
     "showTitle": false,
     "tableResultSettingsMap": {},
     "title": ""
    }
   },
   "source": [
    "## Bibliotecas"
   ]
  },
  {
   "cell_type": "code",
   "execution_count": 0,
   "metadata": {
    "application/vnd.databricks.v1+cell": {
     "cellMetadata": {
      "byteLimit": 2048000,
      "rowLimit": 10000
     },
     "inputWidgets": {},
     "nuid": "f1b497f1-b6bc-4326-b2c0-890d045947a7",
     "showTitle": false,
     "tableResultSettingsMap": {},
     "title": ""
    }
   },
   "outputs": [],
   "source": [
    "from pyspark.sql.functions import lit, input_file_name, to_timestamp, col, regexp_extract, when\n",
    "from pyspark.sql.types import *\n",
    "from datetime import datetime\n",
    "from dateutil.relativedelta import relativedelta\n",
    "from dateutil.rrule import rrule, MONTHLY\n",
    "from pyspark.sql.types import IntegerType, DoubleType"
   ]
  },
  {
   "cell_type": "markdown",
   "metadata": {
    "application/vnd.databricks.v1+cell": {
     "cellMetadata": {
      "byteLimit": 2048000,
      "rowLimit": 10000
     },
     "inputWidgets": {},
     "nuid": "f913ef75-9520-4539-bfeb-79749a8cf1b0",
     "showTitle": false,
     "tableResultSettingsMap": {},
     "title": ""
    }
   },
   "source": [
    "## Parâmetros"
   ]
  },
  {
   "cell_type": "code",
   "execution_count": 0,
   "metadata": {
    "application/vnd.databricks.v1+cell": {
     "cellMetadata": {
      "byteLimit": 2048000,
      "rowLimit": 10000
     },
     "inputWidgets": {},
     "nuid": "a12a13e9-7104-4175-aecd-4bdf2ca0d5eb",
     "showTitle": false,
     "tableResultSettingsMap": {},
     "title": ""
    }
   },
   "outputs": [],
   "source": [
    "# Parâmetros de entrada\n",
    "dbutils.widgets.dropdown(\"vehicle_type\", \"yellow\", [\"yellow\", \"green\", \"fhv\", \"fhvhv\"], \"Tipo de Veículo\")\n",
    "dbutils.widgets.text(\"start_date\", \"2023-01\", \"Data Início (YYYY-MM)\")\n",
    "dbutils.widgets.text(\"end_date\", \"2023-01\", \"Data Fim (YYYY-MM)\")"
   ]
  },
  {
   "cell_type": "code",
   "execution_count": 0,
   "metadata": {
    "application/vnd.databricks.v1+cell": {
     "cellMetadata": {
      "byteLimit": 2048000,
      "rowLimit": 10000
     },
     "inputWidgets": {},
     "nuid": "c301e021-9fb1-4f8d-8b7c-b02da7c2303e",
     "showTitle": false,
     "tableResultSettingsMap": {},
     "title": ""
    }
   },
   "outputs": [
    {
     "output_type": "stream",
     "name": "stdout",
     "output_type": "stream",
     "text": [
      "Processando fhvhv táxis de 2023-01 a 2023-05\n"
     ]
    }
   ],
   "source": [
    "# Obter parâmetros\n",
    "vehicle_type = dbutils.widgets.get(\"vehicle_type\")\n",
    "start_date = dbutils.widgets.get(\"start_date\")\n",
    "end_date = dbutils.widgets.get(\"end_date\")\n",
    "\n",
    "print(f\"Processando {vehicle_type} táxis de {start_date} a {end_date}\")"
   ]
  },
  {
   "cell_type": "markdown",
   "metadata": {
    "application/vnd.databricks.v1+cell": {
     "cellMetadata": {
      "byteLimit": 2048000,
      "rowLimit": 10000
     },
     "inputWidgets": {},
     "nuid": "ebbe0d5f-97da-401e-8d0d-d622b11a784d",
     "showTitle": false,
     "tableResultSettingsMap": {},
     "title": ""
    }
   },
   "source": [
    "## Caminhos"
   ]
  },
  {
   "cell_type": "code",
   "execution_count": 0,
   "metadata": {
    "application/vnd.databricks.v1+cell": {
     "cellMetadata": {
      "byteLimit": 2048000,
      "rowLimit": 10000
     },
     "inputWidgets": {},
     "nuid": "4c44e27b-afbc-4940-a9a1-63d8484dbb06",
     "showTitle": false,
     "tableResultSettingsMap": {},
     "title": ""
    }
   },
   "outputs": [
    {
     "output_type": "stream",
     "name": "stdout",
     "output_type": "stream",
     "text": [
      "Out[212]: True"
     ]
    }
   ],
   "source": [
    "# Caminhos Bronze (origem) e Silver (destino)\n",
    "bronze_path = f\"/case_ifood_nyc/bronze/nyc_taxi/{vehicle_type}\"\n",
    "silver_path = f\"/case_ifood_nyc/silver/nyc_taxi_delta/{vehicle_type}\"  # Novo caminho Delta\n",
    "\n",
    "# Criar diretório Silver se não existir\n",
    "dbutils.fs.mkdirs(silver_path)"
   ]
  },
  {
   "cell_type": "markdown",
   "metadata": {
    "application/vnd.databricks.v1+cell": {
     "cellMetadata": {
      "byteLimit": 2048000,
      "rowLimit": 10000
     },
     "inputWidgets": {},
     "nuid": "26120a7b-87e4-4a8b-a83f-a2aaa01b0395",
     "showTitle": false,
     "tableResultSettingsMap": {},
     "title": ""
    }
   },
   "source": [
    "## Funções"
   ]
  },
  {
   "cell_type": "code",
   "execution_count": 0,
   "metadata": {
    "application/vnd.databricks.v1+cell": {
     "cellMetadata": {
      "byteLimit": 2048000,
      "rowLimit": 10000
     },
     "inputWidgets": {},
     "nuid": "d56f0b52-b0ca-44d2-84ca-4c95acb315b7",
     "showTitle": false,
     "tableResultSettingsMap": {},
     "title": ""
    }
   },
   "outputs": [],
   "source": [
    "# Função para verificar partições\n",
    "def partition_exists(path):\n",
    "    try:\n",
    "        return len(dbutils.fs.ls(path)) > 0\n",
    "    except Exception:\n",
    "        return False"
   ]
  },
  {
   "cell_type": "code",
   "execution_count": 0,
   "metadata": {
    "application/vnd.databricks.v1+cell": {
     "cellMetadata": {
      "byteLimit": 2048000,
      "rowLimit": 10000
     },
     "inputWidgets": {},
     "nuid": "2c876f47-10e1-4217-ac4e-35f68f3af4eb",
     "showTitle": false,
     "tableResultSettingsMap": {},
     "title": ""
    }
   },
   "outputs": [],
   "source": [
    "# Função de Processamento\n",
    "def process_partition(vehicle, year_month):\n",
    "    try:\n",
    "        year, month = year_month.split(\"-\")\n",
    "        print(f\"\\nProcessando {year_month}...\")\n",
    "        \n",
    "        # 1. Ler dados da Bronze\n",
    "        df = spark.read.parquet(f\"{bronze_path}/year={year}/month={month}\")\n",
    "        \n",
    "        # 2. Normalização de campos\n",
    "        numeric_cols = [f.name for f in df.schema.fields if str(f.dataType) in ['IntegerType', 'DoubleType', 'LongType']]\n",
    "        for col_name in numeric_cols:\n",
    "            df = df.withColumn(col_name, col(col_name).cast(\"string\").cast(\"double\"))\n",
    "        \n",
    "        # 3. Adicionar metadados\n",
    "        df = (df.withColumn(\"meta_vehicle_type\", lit(vehicle))\n",
    "              .withColumn(\"meta_source_file\", input_file_name())\n",
    "              .withColumn(\"meta_file_year\", lit(int(year)))\n",
    "              .withColumn(\"meta_file_month\", lit(int(month))))\n",
    "        \n",
    "        # 4. Limpeza específica para yellow taxi\n",
    "        if vehicle == \"yellow\":\n",
    "            df = (df.withColumn(\"tpep_pickup_datetime\", to_timestamp(col(\"tpep_pickup_datetime\")))\n",
    "                  .withColumn(\"tpep_dropoff_datetime\", to_timestamp(col(\"tpep_dropoff_datetime\")))\n",
    "                  .withColumn(\"passenger_count\", \n",
    "                             when(col(\"passenger_count\") < 1, 1)\n",
    "                             .otherwise(col(\"passenger_count\"))))\n",
    "        \n",
    "        # 5. Salvar em partição separada\n",
    "        partition_path = f\"{silver_path}/year={year}/month={month}\"\n",
    "        (df.write\n",
    "           .format(\"delta\")\n",
    "           .mode(\"overwrite\")\n",
    "           .save(partition_path))\n",
    "        \n",
    "        print(f\"✅ Dados salvos em: {partition_path}\")\n",
    "        return True\n",
    "        \n",
    "    except Exception as e:\n",
    "        print(f\"❌ Erro ao processar {year_month}: {str(e)}\")\n",
    "        return False"
   ]
  },
  {
   "cell_type": "markdown",
   "metadata": {
    "application/vnd.databricks.v1+cell": {
     "cellMetadata": {
      "byteLimit": 2048000,
      "rowLimit": 10000
     },
     "inputWidgets": {},
     "nuid": "e0785ecd-2cb6-4cd7-bf86-1c3e8681f26f",
     "showTitle": false,
     "tableResultSettingsMap": {},
     "title": ""
    }
   },
   "source": [
    "## Processamento"
   ]
  },
  {
   "cell_type": "code",
   "execution_count": 0,
   "metadata": {
    "application/vnd.databricks.v1+cell": {
     "cellMetadata": {
      "byteLimit": 2048000,
      "rowLimit": 10000
     },
     "inputWidgets": {},
     "nuid": "72f9655b-ed20-4604-96d3-270958594d61",
     "showTitle": false,
     "tableResultSettingsMap": {},
     "title": ""
    }
   },
   "outputs": [
    {
     "output_type": "stream",
     "name": "stdout",
     "output_type": "stream",
     "text": [
      "\nProcessando 2023-01...\n✅ Dados salvos em: /case_ifood_nyc/silver/nyc_taxi_delta/fhvhv/year=2023/month=01\n\nProcessando 2023-02...\n✅ Dados salvos em: /case_ifood_nyc/silver/nyc_taxi_delta/fhvhv/year=2023/month=02\n\nProcessando 2023-03...\n✅ Dados salvos em: /case_ifood_nyc/silver/nyc_taxi_delta/fhvhv/year=2023/month=03\n\nProcessando 2023-04...\n✅ Dados salvos em: /case_ifood_nyc/silver/nyc_taxi_delta/fhvhv/year=2023/month=04\n\nProcessando 2023-05...\n✅ Dados salvos em: /case_ifood_nyc/silver/nyc_taxi_delta/fhvhv/year=2023/month=05\n"
     ]
    }
   ],
   "source": [
    "spark.conf.set(\"spark.databricks.delta.schema.autoMerge.enabled\", \"true\")\n",
    "dbutils.fs.rm(silver_path, recurse=True)\n",
    "\n",
    "start = datetime.strptime(start_date, \"%Y-%m\")\n",
    "end = datetime.strptime(end_date, \"%Y-%m\")\n",
    "success_count = 0\n",
    "\n",
    "months_to_process = [dt.strftime(\"%Y-%m\") for dt in rrule(MONTHLY, dtstart=start, until=end)]\n",
    "\n",
    "for year_month in months_to_process:\n",
    "    if process_partition(vehicle_type, year_month):\n",
    "        success_count += 1\n",
    "\n",
    "# Criação da View Unificada\n",
    "processed_partitions = []\n",
    "for year_month in months_to_process:\n",
    "    year, month = year_month.split(\"-\")\n",
    "    if partition_exists(f\"{silver_path}/year={year}/month={month}\"):\n",
    "        processed_partitions.append(f\"SELECT * FROM delta.`{silver_path}/year={year}/month={month}`\")"
   ]
  },
  {
   "cell_type": "code",
   "execution_count": 0,
   "metadata": {
    "application/vnd.databricks.v1+cell": {
     "cellMetadata": {
      "byteLimit": 2048000,
      "rowLimit": 10000
     },
     "inputWidgets": {},
     "nuid": "5732733e-145d-44b3-9332-451eb175c372",
     "showTitle": false,
     "tableResultSettingsMap": {},
     "title": ""
    }
   },
   "outputs": [
    {
     "output_type": "stream",
     "name": "stdout",
     "output_type": "stream",
     "text": [
      "\n✅ View unificada criada com sucesso!\n🔍 Verifique os dados com: spark.table('case_ifood_nyc_taxi.silver_fhvhv_taxi_view')\n\n📊 Resumo do processamento:\n"
     ]
    },
    {
     "output_type": "display_data",
     "data": {
      "text/html": [
       "<style scoped>\n",
       "  .table-result-container {\n",
       "    max-height: 300px;\n",
       "    overflow: auto;\n",
       "  }\n",
       "  table, th, td {\n",
       "    border: 1px solid black;\n",
       "    border-collapse: collapse;\n",
       "  }\n",
       "  th, td {\n",
       "    padding: 5px;\n",
       "  }\n",
       "  th {\n",
       "    text-align: left;\n",
       "  }\n",
       "</style><div class='table-result-container'><table class='table-result'><thead style='background-color: white'><tr><th>meta_file_year</th><th>meta_file_month</th><th>total_records</th></tr></thead><tbody><tr><td>2023</td><td>1</td><td>18479031</td></tr><tr><td>2023</td><td>2</td><td>17960971</td></tr><tr><td>2023</td><td>3</td><td>20413539</td></tr><tr><td>2023</td><td>4</td><td>19144903</td></tr><tr><td>2023</td><td>5</td><td>19847676</td></tr></tbody></table></div>"
      ]
     },
     "metadata": {
      "application/vnd.databricks.v1+output": {
       "addedWidgets": {},
       "aggData": [],
       "aggError": "",
       "aggOverflow": false,
       "aggSchema": [],
       "aggSeriesLimitReached": false,
       "aggType": "",
       "arguments": {},
       "columnCustomDisplayInfos": {},
       "data": [
        [
         2023,
         1,
         18479031
        ],
        [
         2023,
         2,
         17960971
        ],
        [
         2023,
         3,
         20413539
        ],
        [
         2023,
         4,
         19144903
        ],
        [
         2023,
         5,
         19847676
        ]
       ],
       "datasetInfos": [],
       "dbfsResultPath": null,
       "isJsonSchema": true,
       "metadata": {},
       "overflow": false,
       "plotOptions": {
        "customPlotOptions": {},
        "displayType": "table",
        "pivotAggregation": null,
        "pivotColumns": null,
        "xColumns": null,
        "yColumns": null
       },
       "removedWidgets": [],
       "schema": [
        {
         "metadata": "{}",
         "name": "meta_file_year",
         "type": "\"integer\""
        },
        {
         "metadata": "{}",
         "name": "meta_file_month",
         "type": "\"integer\""
        },
        {
         "metadata": "{}",
         "name": "total_records",
         "type": "\"long\""
        }
       ],
       "type": "table"
      }
     },
     "output_type": "display_data"
    },
    {
     "output_type": "stream",
     "name": "stdout",
     "output_type": "stream",
     "text": [
      "\nProcessamento concluído. 5/5 meses processados.\n"
     ]
    }
   ],
   "source": [
    "if processed_partitions:\n",
    "    union_all_query = \" UNION ALL \".join(processed_partitions)\n",
    "    \n",
    "    try:\n",
    "        spark.sql(f\"\"\"\n",
    "        CREATE OR REPLACE VIEW case_ifood_nyc_taxi.silver_{vehicle_type}_taxi_view AS\n",
    "        {union_all_query}\n",
    "        \"\"\")\n",
    "        \n",
    "        print(\"\\n✅ View unificada criada com sucesso!\")\n",
    "        print(f\"🔍 Verifique os dados com: spark.table('case_ifood_nyc_taxi.silver_{vehicle_type}_taxi_view')\")\n",
    "        \n",
    "        # Análise final\n",
    "        print(\"\\n📊 Resumo do processamento:\")\n",
    "        display(spark.sql(f\"\"\"\n",
    "        SELECT \n",
    "            meta_file_year,\n",
    "            meta_file_month, \n",
    "            COUNT(*) as total_records\n",
    "        FROM case_ifood_nyc_taxi.silver_{vehicle_type}_taxi_view\n",
    "        GROUP BY meta_file_year, meta_file_month\n",
    "        ORDER BY meta_file_year, meta_file_month\n",
    "        \"\"\"))\n",
    "        \n",
    "    except Exception as e:\n",
    "        print(f\"\\n⚠️ Erro ao criar view: {str(e)}\")\n",
    "        print(\"\\n💡 Acesso alternativo por partição:\")\n",
    "        for part in processed_partitions:\n",
    "            print(part.replace(\"SELECT * FROM delta.`\", \"spark.read.format('delta').load('\").replace(\"`\", \"'\"))\n",
    "else:\n",
    "    print(\"\\n❌ Nenhuma partição foi processada com sucesso.\")\n",
    "\n",
    "print(f\"\\nProcessamento concluído. {success_count}/{len(months_to_process)} meses processados.\")"
   ]
  }
 ],
 "metadata": {
  "application/vnd.databricks.v1+notebook": {
   "computePreferences": null,
   "dashboards": [],
   "environmentMetadata": {
    "base_environment": "",
    "environment_version": "1"
   },
   "inputWidgetPreferences": null,
   "language": "python",
   "notebookMetadata": {
    "pythonIndentUnit": 4
   },
   "notebookName": "02_silver_iFood_process_nycTaxiData",
   "widgets": {
    "end_date": {
     "currentValue": "2023-05",
     "nuid": "8d348727-d05b-454e-a73a-3594436b9267",
     "typedWidgetInfo": {
      "autoCreated": false,
      "defaultValue": "2023-01",
      "label": "Data Fim (YYYY-MM)",
      "name": "end_date",
      "options": {
       "widgetDisplayType": "Text",
       "validationRegex": null
      },
      "parameterDataType": "String"
     },
     "widgetInfo": {
      "widgetType": "text",
      "defaultValue": "2023-01",
      "label": "Data Fim (YYYY-MM)",
      "name": "end_date",
      "options": {
       "widgetType": "text",
       "autoCreated": null,
       "validationRegex": null
      }
     }
    },
    "start_date": {
     "currentValue": "2023-01",
     "nuid": "4607a2ae-3c00-4f65-94e4-32daf0fc601e",
     "typedWidgetInfo": {
      "autoCreated": false,
      "defaultValue": "2023-01",
      "label": "Data Início (YYYY-MM)",
      "name": "start_date",
      "options": {
       "widgetDisplayType": "Text",
       "validationRegex": null
      },
      "parameterDataType": "String"
     },
     "widgetInfo": {
      "widgetType": "text",
      "defaultValue": "2023-01",
      "label": "Data Início (YYYY-MM)",
      "name": "start_date",
      "options": {
       "widgetType": "text",
       "autoCreated": null,
       "validationRegex": null
      }
     }
    },
    "vehicle_type": {
     "currentValue": "fhvhv",
     "nuid": "b40c1dfc-9aff-455e-a861-d055d6dfe50a",
     "typedWidgetInfo": {
      "autoCreated": false,
      "defaultValue": "yellow",
      "label": "Tipo de Veículo",
      "name": "vehicle_type",
      "options": {
       "widgetDisplayType": "Dropdown",
       "choices": [
        "yellow",
        "green",
        "fhv",
        "fhvhv"
       ],
       "fixedDomain": true,
       "multiselect": false
      },
      "parameterDataType": "String"
     },
     "widgetInfo": {
      "widgetType": "dropdown",
      "defaultValue": "yellow",
      "label": "Tipo de Veículo",
      "name": "vehicle_type",
      "options": {
       "widgetType": "dropdown",
       "autoCreated": null,
       "choices": [
        "yellow",
        "green",
        "fhv",
        "fhvhv"
       ]
      }
     }
    }
   }
  }
 },
 "nbformat": 4,
 "nbformat_minor": 0
}