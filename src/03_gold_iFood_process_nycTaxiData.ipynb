{
 "cells": [
  {
   "cell_type": "markdown",
   "metadata": {
    "application/vnd.databricks.v1+cell": {
     "cellMetadata": {
      "byteLimit": 2048000,
      "rowLimit": 10000
     },
     "inputWidgets": {},
     "nuid": "8627b206-4914-44de-aa0f-82366edb04e4",
     "showTitle": false,
     "tableResultSettingsMap": {},
     "title": ""
    }
   },
   "source": [
    "# Refinamento dos dados de viagens de táxis de Nova York - dados da NYC"
   ]
  },
  {
   "cell_type": "markdown",
   "metadata": {
    "application/vnd.databricks.v1+cell": {
     "cellMetadata": {
      "byteLimit": 2048000,
      "rowLimit": 10000
     },
     "inputWidgets": {},
     "nuid": "8eac6eb5-1b07-4497-bd14-e8d6106dfd25",
     "showTitle": false,
     "tableResultSettingsMap": {},
     "title": ""
    }
   },
   "source": [
    "* Base de dados com colunas selecionadas e prontas para consumo analítico\n",
    "* Padronização das coluans entre os veículos\n",
    "* Unificação das tabelas dos táxis amarelos e verdes\n",
    "* Consistência dos dados"
   ]
  },
  {
   "cell_type": "markdown",
   "metadata": {
    "application/vnd.databricks.v1+cell": {
     "cellMetadata": {
      "byteLimit": 2048000,
      "rowLimit": 10000
     },
     "inputWidgets": {},
     "nuid": "1e9b3d5b-b59a-4862-953a-26569066d0d7",
     "showTitle": false,
     "tableResultSettingsMap": {},
     "title": ""
    }
   },
   "source": [
    "## Camada gold"
   ]
  },
  {
   "cell_type": "markdown",
   "metadata": {
    "application/vnd.databricks.v1+cell": {
     "cellMetadata": {
      "byteLimit": 2048000,
      "rowLimit": 10000
     },
     "inputWidgets": {},
     "nuid": "00699cf2-ba25-4320-bf0b-7d23c877a1be",
     "showTitle": false,
     "tableResultSettingsMap": {},
     "title": ""
    }
   },
   "source": [
    "## Bibliotecas"
   ]
  },
  {
   "cell_type": "code",
   "execution_count": 0,
   "metadata": {
    "application/vnd.databricks.v1+cell": {
     "cellMetadata": {
      "byteLimit": 2048000,
      "rowLimit": 10000
     },
     "inputWidgets": {},
     "nuid": "6aa2235c-ebd8-4b14-a181-14cac147ecd7",
     "showTitle": false,
     "tableResultSettingsMap": {},
     "title": ""
    }
   },
   "outputs": [],
   "source": [
    "from pyspark.sql.functions import col, year, month, dayofmonth, hour, lit, coalesce\n",
    "from datetime import datetime\n",
    "from dateutil.rrule import rrule, MONTHLY"
   ]
  },
  {
   "cell_type": "markdown",
   "metadata": {
    "application/vnd.databricks.v1+cell": {
     "cellMetadata": {
      "byteLimit": 2048000,
      "rowLimit": 10000
     },
     "inputWidgets": {},
     "nuid": "095c14bc-b6c1-4521-837c-cee7952defb3",
     "showTitle": false,
     "tableResultSettingsMap": {},
     "title": ""
    }
   },
   "source": [
    "## Parâmetros"
   ]
  },
  {
   "cell_type": "code",
   "execution_count": 0,
   "metadata": {
    "application/vnd.databricks.v1+cell": {
     "cellMetadata": {
      "byteLimit": 2048000,
      "rowLimit": 10000
     },
     "inputWidgets": {},
     "nuid": "35dba8d0-65a7-4a7d-8c6b-97badc7e056b",
     "showTitle": false,
     "tableResultSettingsMap": {},
     "title": ""
    }
   },
   "outputs": [],
   "source": [
    "# Configuração Inicial\n",
    "dbutils.widgets.text(\"start_date\", \"2023-01\", \"Data Início (YYYY-MM)\")\n",
    "dbutils.widgets.text(\"end_date\", \"2023-01\", \"Data Fim (YYYY-MM)\")"
   ]
  },
  {
   "cell_type": "code",
   "execution_count": 0,
   "metadata": {
    "application/vnd.databricks.v1+cell": {
     "cellMetadata": {
      "byteLimit": 2048000,
      "rowLimit": 10000
     },
     "inputWidgets": {},
     "nuid": "35d46fca-49f2-48d4-b3cf-f20a2029755d",
     "showTitle": false,
     "tableResultSettingsMap": {},
     "title": ""
    }
   },
   "outputs": [
    {
     "output_type": "stream",
     "name": "stdout",
     "output_type": "stream",
     "text": [
      "Processando camada Gold unificada (yellow/green) de 2023-01 a 2023-05\n"
     ]
    }
   ],
   "source": [
    "# Obter Parâmetros\n",
    "start_date = dbutils.widgets.get(\"start_date\")\n",
    "end_date = dbutils.widgets.get(\"end_date\")\n",
    "\n",
    "print(f\"Processando camada Gold unificada (yellow/green) de {start_date} a {end_date}\")"
   ]
  },
  {
   "cell_type": "markdown",
   "metadata": {
    "application/vnd.databricks.v1+cell": {
     "cellMetadata": {
      "byteLimit": 2048000,
      "rowLimit": 10000
     },
     "inputWidgets": {},
     "nuid": "c755bedb-d1bc-41c0-b152-42fbbe31d1e7",
     "showTitle": false,
     "tableResultSettingsMap": {},
     "title": ""
    }
   },
   "source": [
    "## Caminhos"
   ]
  },
  {
   "cell_type": "code",
   "execution_count": 0,
   "metadata": {
    "application/vnd.databricks.v1+cell": {
     "cellMetadata": {
      "byteLimit": 2048000,
      "rowLimit": 10000
     },
     "inputWidgets": {},
     "nuid": "ff87c8e2-cc14-4782-b501-28218a58d009",
     "showTitle": false,
     "tableResultSettingsMap": {},
     "title": ""
    }
   },
   "outputs": [
    {
     "output_type": "stream",
     "name": "stdout",
     "output_type": "stream",
     "text": [
      "Out[21]: True"
     ]
    }
   ],
   "source": [
    "# Configuração de Caminhos\n",
    "silver_base_path = \"/case_ifood_nyc/silver/nyc_taxi_delta\"\n",
    "gold_path = \"/case_ifood_nyc/gold/nyc_taxi_unified\"\n",
    "dbutils.fs.mkdirs(gold_path)"
   ]
  },
  {
   "cell_type": "markdown",
   "metadata": {
    "application/vnd.databricks.v1+cell": {
     "cellMetadata": {
      "byteLimit": 2048000,
      "rowLimit": 10000
     },
     "inputWidgets": {},
     "nuid": "52934c41-46cf-4a21-b9d9-8e5b05e2b3fc",
     "showTitle": false,
     "tableResultSettingsMap": {},
     "title": ""
    }
   },
   "source": [
    "## Funções"
   ]
  },
  {
   "cell_type": "code",
   "execution_count": 0,
   "metadata": {
    "application/vnd.databricks.v1+cell": {
     "cellMetadata": {
      "byteLimit": 2048000,
      "rowLimit": 10000
     },
     "inputWidgets": {},
     "nuid": "7dd1f8e6-6647-4dd4-aa3f-2c7d2a414adb",
     "showTitle": false,
     "tableResultSettingsMap": {},
     "title": ""
    }
   },
   "outputs": [],
   "source": [
    "# Função para processar cada partição\n",
    "def process_gold_partition(vehicle_type, year_month):\n",
    "    try:\n",
    "        year_part, month_part = year_month.split(\"-\")\n",
    "        print(f\"\\nProcessando {vehicle_type} - {year_month}...\")\n",
    "        \n",
    "        # 1. Ler dados da Silver\n",
    "        df = spark.read.format(\"delta\").load(f\"{silver_base_path}/{vehicle_type}/year={year_part}/month={month_part}\")\n",
    "        \n",
    "        # 2. Tratar colunas específicas de cada tipo\n",
    "        if vehicle_type == \"yellow\":\n",
    "            pickup_col = \"tpep_pickup_datetime\"\n",
    "            dropoff_col = \"tpep_dropoff_datetime\"\n",
    "        else:  # green\n",
    "            pickup_col = \"lpep_pickup_datetime\"\n",
    "            dropoff_col = \"lpep_dropoff_datetime\"\n",
    "        \n",
    "        # 3. Selecionar e transformar colunas\n",
    "        df_gold = df.select(\n",
    "            lit(vehicle_type).alias(\"vehicle_type\"),\n",
    "            coalesce(col(\"VendorID\"), col(\"vendorid\")).cast(\"int\").alias(\"VendorID\"),\n",
    "            col(\"passenger_count\").cast(\"int\").alias(\"passenger_count\"),\n",
    "            col(\"total_amount\").cast(\"double\").alias(\"total_amount\"),\n",
    "            col(pickup_col).cast(\"timestamp\").alias(\"pickup_datetime\"),\n",
    "            col(dropoff_col).cast(\"timestamp\").alias(\"dropoff_datetime\"),\n",
    "            lit(int(year_part)).alias(\"meta_file_year\"),\n",
    "            lit(int(month_part)).alias(\"meta_file_month\")\n",
    "        )\n",
    "        \n",
    "        # 4. Adicionar colunas derivadas\n",
    "        df_gold = (df_gold\n",
    "            .withColumn(\"pickup_year\", year(col(\"pickup_datetime\")))\n",
    "            .withColumn(\"pickup_month\", month(col(\"pickup_datetime\")))\n",
    "            .withColumn(\"pickup_day\", dayofmonth(col(\"pickup_datetime\")))\n",
    "            .withColumn(\"pickup_hour\", hour(col(\"pickup_datetime\")))\n",
    "            .withColumn(\"trip_duration_minutes\", \n",
    "                       (col(\"dropoff_datetime\").cast(\"long\") - \n",
    "                        col(\"pickup_datetime\").cast(\"long\")) / 60)\n",
    "            .filter(col(\"pickup_datetime\").isNotNull() & \n",
    "                   col(\"dropoff_datetime\").isNotNull()))\n",
    "        \n",
    "        return df_gold\n",
    "        \n",
    "    except Exception as e:\n",
    "        print(f\"❌ Erro ao processar {vehicle_type} - {year_month}: {str(e)}\")\n",
    "        return None"
   ]
  },
  {
   "cell_type": "markdown",
   "metadata": {
    "application/vnd.databricks.v1+cell": {
     "cellMetadata": {
      "byteLimit": 2048000,
      "rowLimit": 10000
     },
     "inputWidgets": {},
     "nuid": "1fbbb0e4-381d-4b38-9d90-dd13eca0f29e",
     "showTitle": false,
     "tableResultSettingsMap": {},
     "title": ""
    }
   },
   "source": [
    "## Tratamento"
   ]
  },
  {
   "cell_type": "code",
   "execution_count": 0,
   "metadata": {
    "application/vnd.databricks.v1+cell": {
     "cellMetadata": {
      "byteLimit": 2048000,
      "rowLimit": 10000
     },
     "inputWidgets": {},
     "nuid": "f91e7fbc-100d-441b-b7a7-959b998c1a15",
     "showTitle": false,
     "tableResultSettingsMap": {},
     "title": ""
    }
   },
   "outputs": [],
   "source": [
    "# Schema esperado para a tabela unificada\n",
    "unified_schema = \"\"\"\n",
    "    vehicle_type STRING,\n",
    "    VendorID INT,\n",
    "    passenger_count INT,\n",
    "    total_amount DOUBLE,\n",
    "    pickup_datetime TIMESTAMP,\n",
    "    dropoff_datetime TIMESTAMP,\n",
    "    pickup_year INT,\n",
    "    pickup_month INT,\n",
    "    pickup_day INT,\n",
    "    pickup_hour INT,\n",
    "    trip_duration_minutes DOUBLE,\n",
    "    meta_file_year INT,\n",
    "    meta_file_month INT\n",
    "\"\"\""
   ]
  },
  {
   "cell_type": "code",
   "execution_count": 0,
   "metadata": {
    "application/vnd.databricks.v1+cell": {
     "cellMetadata": {
      "byteLimit": 2048000,
      "rowLimit": 10000
     },
     "inputWidgets": {},
     "nuid": "dc0c9f7f-4115-4b56-bf9a-832da8f2eed8",
     "showTitle": false,
     "tableResultSettingsMap": {},
     "title": ""
    }
   },
   "outputs": [
    {
     "output_type": "stream",
     "name": "stdout",
     "output_type": "stream",
     "text": [
      "Out[24]: True"
     ]
    }
   ],
   "source": [
    "start = datetime.strptime(start_date, \"%Y-%m\")\n",
    "end = datetime.strptime(end_date, \"%Y-%m\")\n",
    "vehicle_types = [\"yellow\", \"green\"]  # Apenas yellow e green\n",
    "success_count = 0\n",
    "\n",
    "# Limpar dados anteriores\n",
    "dbutils.fs.rm(gold_path, recurse=True)"
   ]
  },
  {
   "cell_type": "code",
   "execution_count": 0,
   "metadata": {
    "application/vnd.databricks.v1+cell": {
     "cellMetadata": {
      "byteLimit": 2048000,
      "rowLimit": 10000
     },
     "inputWidgets": {},
     "nuid": "816072b5-53bf-4c85-85cf-3d552f3fc29f",
     "showTitle": false,
     "tableResultSettingsMap": {},
     "title": ""
    }
   },
   "outputs": [
    {
     "output_type": "stream",
     "name": "stdout",
     "output_type": "stream",
     "text": [
      "\nProcessando yellow - 2023-01...\n\nProcessando yellow - 2023-02...\n\nProcessando yellow - 2023-03...\n\nProcessando yellow - 2023-04...\n\nProcessando yellow - 2023-05...\n\nProcessando green - 2023-01...\n\nProcessando green - 2023-02...\n\nProcessando green - 2023-03...\n\nProcessando green - 2023-04...\n\nProcessando green - 2023-05...\n"
     ]
    }
   ],
   "source": [
    "# Lista dos DataFrames processados\n",
    "all_dfs = []\n",
    "\n",
    "for vehicle_type in vehicle_types:\n",
    "    for dt in rrule(MONTHLY, dtstart=start, until=end):\n",
    "        year_month = dt.strftime(\"%Y-%m\")\n",
    "        df_processed = process_gold_partition(vehicle_type, year_month)\n",
    "        if df_processed is not None:\n",
    "            all_dfs.append(df_processed)\n",
    "            success_count += 1"
   ]
  },
  {
   "cell_type": "code",
   "execution_count": 0,
   "metadata": {
    "application/vnd.databricks.v1+cell": {
     "cellMetadata": {
      "byteLimit": 2048000,
      "rowLimit": 10000
     },
     "inputWidgets": {},
     "nuid": "bbe0cd8b-f741-4d04-a008-117f3c5ef3e5",
     "showTitle": false,
     "tableResultSettingsMap": {},
     "title": ""
    }
   },
   "outputs": [
    {
     "output_type": "stream",
     "name": "stdout",
     "output_type": "stream",
     "text": [
      "\n✅ Salvando dados Gold unificados em: /case_ifood_nyc/gold/nyc_taxi_unified\n"
     ]
    }
   ],
   "source": [
    "# Unir todos os DataFrames e salvar\n",
    "if all_dfs:\n",
    "    # Combinar todos os DataFrames\n",
    "    gold_df = all_dfs[0]\n",
    "    for df in all_dfs[1:]:\n",
    "        gold_df = gold_df.union(df)\n",
    "    \n",
    "    # Salvar na camada Gold\n",
    "    (gold_df.write\n",
    "       .format(\"delta\")\n",
    "       .mode(\"overwrite\")\n",
    "       .partitionBy(\"vehicle_type\", \"meta_file_year\", \"meta_file_month\")\n",
    "       .save(gold_path))\n",
    "    \n",
    "    print(f\"\\n✅ Salvando dados Gold unificados em: {gold_path}\")"
   ]
  },
  {
   "cell_type": "code",
   "execution_count": 0,
   "metadata": {
    "application/vnd.databricks.v1+cell": {
     "cellMetadata": {
      "byteLimit": 2048000,
      "rowLimit": 10000
     },
     "inputWidgets": {},
     "nuid": "470bc5ce-77da-4599-9d95-5206c90b8d25",
     "showTitle": false,
     "tableResultSettingsMap": {},
     "title": ""
    }
   },
   "outputs": [
    {
     "output_type": "stream",
     "name": "stdout",
     "output_type": "stream",
     "text": [
      "\nRegistrando tabela Gold unificada...\n\n✅ Tabela Gold unificada criada com sucesso!\n\n📊 Amostra de dados:\n"
     ]
    },
    {
     "output_type": "display_data",
     "data": {
      "text/html": [
       "<style scoped>\n",
       "  .table-result-container {\n",
       "    max-height: 300px;\n",
       "    overflow: auto;\n",
       "  }\n",
       "  table, th, td {\n",
       "    border: 1px solid black;\n",
       "    border-collapse: collapse;\n",
       "  }\n",
       "  th, td {\n",
       "    padding: 5px;\n",
       "  }\n",
       "  th {\n",
       "    text-align: left;\n",
       "  }\n",
       "</style><div class='table-result-container'><table class='table-result'><thead style='background-color: white'><tr><th>vehicle_type</th><th>VendorID</th><th>passenger_count</th><th>total_amount</th><th>pickup_datetime</th><th>dropoff_datetime</th><th>meta_file_year</th><th>meta_file_month</th><th>pickup_year</th><th>pickup_month</th><th>pickup_day</th><th>pickup_hour</th><th>trip_duration_minutes</th></tr></thead><tbody><tr><td>yellow</td><td>2</td><td>1</td><td>14.3</td><td>2023-01-01T00:32:10.000+0000</td><td>2023-01-01T00:40:36.000+0000</td><td>2023</td><td>1</td><td>2023</td><td>1</td><td>1</td><td>0</td><td>8.433333333333334</td></tr><tr><td>yellow</td><td>2</td><td>1</td><td>16.9</td><td>2023-01-01T00:55:08.000+0000</td><td>2023-01-01T01:01:27.000+0000</td><td>2023</td><td>1</td><td>2023</td><td>1</td><td>1</td><td>0</td><td>6.316666666666666</td></tr><tr><td>yellow</td><td>2</td><td>1</td><td>34.9</td><td>2023-01-01T00:25:04.000+0000</td><td>2023-01-01T00:37:49.000+0000</td><td>2023</td><td>1</td><td>2023</td><td>1</td><td>1</td><td>0</td><td>12.75</td></tr><tr><td>yellow</td><td>1</td><td>1</td><td>20.85</td><td>2023-01-01T00:03:48.000+0000</td><td>2023-01-01T00:13:25.000+0000</td><td>2023</td><td>1</td><td>2023</td><td>1</td><td>1</td><td>0</td><td>9.616666666666667</td></tr><tr><td>yellow</td><td>2</td><td>1</td><td>19.68</td><td>2023-01-01T00:10:29.000+0000</td><td>2023-01-01T00:21:19.000+0000</td><td>2023</td><td>1</td><td>2023</td><td>1</td><td>1</td><td>0</td><td>10.833333333333334</td></tr></tbody></table></div>"
      ]
     },
     "metadata": {
      "application/vnd.databricks.v1+output": {
       "addedWidgets": {},
       "aggData": [],
       "aggError": "",
       "aggOverflow": false,
       "aggSchema": [],
       "aggSeriesLimitReached": false,
       "aggType": "",
       "arguments": {},
       "columnCustomDisplayInfos": {},
       "data": [
        [
         "yellow",
         2,
         1,
         14.3,
         "2023-01-01T00:32:10.000+0000",
         "2023-01-01T00:40:36.000+0000",
         2023,
         1,
         2023,
         1,
         1,
         0,
         8.433333333333334
        ],
        [
         "yellow",
         2,
         1,
         16.9,
         "2023-01-01T00:55:08.000+0000",
         "2023-01-01T01:01:27.000+0000",
         2023,
         1,
         2023,
         1,
         1,
         0,
         6.316666666666666
        ],
        [
         "yellow",
         2,
         1,
         34.9,
         "2023-01-01T00:25:04.000+0000",
         "2023-01-01T00:37:49.000+0000",
         2023,
         1,
         2023,
         1,
         1,
         0,
         12.75
        ],
        [
         "yellow",
         1,
         1,
         20.85,
         "2023-01-01T00:03:48.000+0000",
         "2023-01-01T00:13:25.000+0000",
         2023,
         1,
         2023,
         1,
         1,
         0,
         9.616666666666667
        ],
        [
         "yellow",
         2,
         1,
         19.68,
         "2023-01-01T00:10:29.000+0000",
         "2023-01-01T00:21:19.000+0000",
         2023,
         1,
         2023,
         1,
         1,
         0,
         10.833333333333334
        ]
       ],
       "datasetInfos": [],
       "dbfsResultPath": null,
       "isJsonSchema": true,
       "metadata": {},
       "overflow": false,
       "plotOptions": {
        "customPlotOptions": {},
        "displayType": "table",
        "pivotAggregation": null,
        "pivotColumns": null,
        "xColumns": null,
        "yColumns": null
       },
       "removedWidgets": [],
       "schema": [
        {
         "metadata": "{}",
         "name": "vehicle_type",
         "type": "\"string\""
        },
        {
         "metadata": "{}",
         "name": "VendorID",
         "type": "\"integer\""
        },
        {
         "metadata": "{}",
         "name": "passenger_count",
         "type": "\"integer\""
        },
        {
         "metadata": "{}",
         "name": "total_amount",
         "type": "\"double\""
        },
        {
         "metadata": "{}",
         "name": "pickup_datetime",
         "type": "\"timestamp\""
        },
        {
         "metadata": "{}",
         "name": "dropoff_datetime",
         "type": "\"timestamp\""
        },
        {
         "metadata": "{}",
         "name": "meta_file_year",
         "type": "\"integer\""
        },
        {
         "metadata": "{}",
         "name": "meta_file_month",
         "type": "\"integer\""
        },
        {
         "metadata": "{}",
         "name": "pickup_year",
         "type": "\"integer\""
        },
        {
         "metadata": "{}",
         "name": "pickup_month",
         "type": "\"integer\""
        },
        {
         "metadata": "{}",
         "name": "pickup_day",
         "type": "\"integer\""
        },
        {
         "metadata": "{}",
         "name": "pickup_hour",
         "type": "\"integer\""
        },
        {
         "metadata": "{}",
         "name": "trip_duration_minutes",
         "type": "\"double\""
        }
       ],
       "type": "table"
      }
     },
     "output_type": "display_data"
    }
   ],
   "source": [
    "# Registrar Tabela Gold Unificada\n",
    "if success_count > 0:\n",
    "    print(\"\\nRegistrando tabela Gold unificada...\")\n",
    "    spark.sql(\"CREATE DATABASE IF NOT EXISTS case_ifood_nyc_taxi\")\n",
    "    \n",
    "    # Criar tabela com schema explícito\n",
    "    spark.sql(f\"\"\"\n",
    "    CREATE TABLE IF NOT EXISTS case_ifood_nyc_taxi.gold_unified_taxi (\n",
    "        {unified_schema}\n",
    "    )\n",
    "    USING DELTA\n",
    "    PARTITIONED BY (vehicle_type, meta_file_year, meta_file_month)\n",
    "    LOCATION '{gold_path}'\n",
    "    \"\"\")\n",
    "    \n",
    "    # Otimizar tabela\n",
    "    spark.sql(f\"OPTIMIZE case_ifood_nyc_taxi.gold_unified_taxi\")\n",
    "    print(\"\\n✅ Tabela Gold unificada criada com sucesso!\")\n",
    "    \n",
    "    # Verificação\n",
    "    print(\"\\n📊 Amostra de dados:\")\n",
    "    display(spark.table(\"case_ifood_nyc_taxi.gold_unified_taxi\").limit(5))\n",
    "    \n",
    "else:\n",
    "    print(\"\\n❌ Nenhum dado foi processado com sucesso na camada Gold.\")"
   ]
  }
 ],
 "metadata": {
  "application/vnd.databricks.v1+notebook": {
   "computePreferences": null,
   "dashboards": [],
   "environmentMetadata": {
    "base_environment": "",
    "environment_version": "1"
   },
   "inputWidgetPreferences": null,
   "language": "python",
   "notebookMetadata": {
    "pythonIndentUnit": 4
   },
   "notebookName": "03_gold_iFood_process_nycTaxiData",
   "widgets": {
    "end_date": {
     "currentValue": "2023-05",
     "nuid": "b89eeaba-dcd0-4820-906e-96e904718189",
     "typedWidgetInfo": {
      "autoCreated": false,
      "defaultValue": "2023-01",
      "label": "Data Fim (YYYY-MM)",
      "name": "end_date",
      "options": {
       "widgetDisplayType": "Text",
       "validationRegex": null
      },
      "parameterDataType": "String"
     },
     "widgetInfo": {
      "widgetType": "text",
      "defaultValue": "2023-01",
      "label": "Data Fim (YYYY-MM)",
      "name": "end_date",
      "options": {
       "widgetType": "text",
       "autoCreated": null,
       "validationRegex": null
      }
     }
    },
    "start_date": {
     "currentValue": "2023-01",
     "nuid": "20e71827-122c-41c6-9776-ffba1497770b",
     "typedWidgetInfo": {
      "autoCreated": false,
      "defaultValue": "2023-01",
      "label": "Data Início (YYYY-MM)",
      "name": "start_date",
      "options": {
       "widgetDisplayType": "Text",
       "validationRegex": null
      },
      "parameterDataType": "String"
     },
     "widgetInfo": {
      "widgetType": "text",
      "defaultValue": "2023-01",
      "label": "Data Início (YYYY-MM)",
      "name": "start_date",
      "options": {
       "widgetType": "text",
       "autoCreated": null,
       "validationRegex": null
      }
     }
    }
   }
  }
 },
 "nbformat": 4,
 "nbformat_minor": 0
}