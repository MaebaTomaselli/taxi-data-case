{
 "cells": [
  {
   "cell_type": "markdown",
   "metadata": {
    "application/vnd.databricks.v1+cell": {
     "cellMetadata": {
      "byteLimit": 2048000,
      "rowLimit": 10000
     },
     "inputWidgets": {},
     "nuid": "8e0da574-8197-4398-8584-0bb0ce739872",
     "showTitle": false,
     "tableResultSettingsMap": {},
     "title": ""
    }
   },
   "source": [
    "# Ingestão dos dados de viagens de táxis de Nova York - dados da NYC"
   ]
  },
  {
   "cell_type": "markdown",
   "metadata": {
    "application/vnd.databricks.v1+cell": {
     "cellMetadata": {
      "byteLimit": 2048000,
      "rowLimit": 10000
     },
     "inputWidgets": {},
     "nuid": "008cb748-a008-4e53-89d7-3d0dc750bd2f",
     "showTitle": false,
     "tableResultSettingsMap": {},
     "title": ""
    }
   },
   "source": [
    "# Camada bronze"
   ]
  },
  {
   "cell_type": "markdown",
   "metadata": {
    "application/vnd.databricks.v1+cell": {
     "cellMetadata": {
      "byteLimit": 2048000,
      "rowLimit": 10000
     },
     "inputWidgets": {},
     "nuid": "ee208b58-8c3b-43b5-8534-fe7af939f048",
     "showTitle": true,
     "tableResultSettingsMap": {},
     "title": ""
    }
   },
   "source": [
    "<br>Extração de dados referentes às corridas de táxis de NY para os meses de janeiro a maio de 2023</br>\n",
    "Link: https://www.nyc.gov/site/tlc/about/tlc-trip-record-data.page\n",
    "\n",
    "Os dados são disponibilizados pela agência responsável por licenciar e regular os táxis na cidade de NY - NYC Taxi and Limousine Commission (TLC).\n",
    "Dados disponíveis para:\n",
    "- Táxis verdes e amarelos;\n",
    "- Veículos alugados (FHV)\n",
    "\n",
    "Siglas:\n",
    "- TLC: NYC Taxi and Limousine Commission\n",
    "- TPEP/LPEP: Taxicab & Livery Passenger Enhancement Programs\n",
    "- FHV: For-Hire Vehicle\n",
    "- HVFHV: high volume trip records\n",
    "\n",
    "Dicionário de dados:\n",
    "- Táxi amarelo: https://www.nyc.gov/assets/tlc/downloads/pdf/data_dictionary_trip_records_yellow.pdf\n",
    "- Táxi verde: https://www.nyc.gov/assets/tlc/downloads/pdf/data_dictionary_trip_records_green.pdf\n",
    "- FHV: https://www.nyc.gov/assets/tlc/downloads/pdf/data_dictionary_trip_records_fhv.pdf\n",
    "- HVFHV: https://www.nyc.gov/assets/tlc/downloads/pdf/data_dictionary_trip_records_hvfhs.pdf\n"
   ]
  },
  {
   "cell_type": "markdown",
   "metadata": {
    "application/vnd.databricks.v1+cell": {
     "cellMetadata": {
      "byteLimit": 2048000,
      "rowLimit": 10000
     },
     "inputWidgets": {},
     "nuid": "90c47ea2-46c1-4153-a281-667b6ebecce9",
     "showTitle": false,
     "tableResultSettingsMap": {},
     "title": ""
    }
   },
   "source": [
    "## Bibliotecas"
   ]
  },
  {
   "cell_type": "code",
   "execution_count": 0,
   "metadata": {
    "application/vnd.databricks.v1+cell": {
     "cellMetadata": {
      "byteLimit": 2048000,
      "rowLimit": 10000
     },
     "inputWidgets": {},
     "nuid": "da40d1dd-7c22-48c9-9821-563aaec84bf6",
     "showTitle": false,
     "tableResultSettingsMap": {},
     "title": ""
    }
   },
   "outputs": [],
   "source": [
    "import os\n",
    "import requests\n",
    "from datetime import datetime\n",
    "from dateutil.relativedelta import relativedelta\n",
    "import tempfile\n",
    "from pyspark.sql.functions import lit"
   ]
  },
  {
   "cell_type": "markdown",
   "metadata": {
    "application/vnd.databricks.v1+cell": {
     "cellMetadata": {
      "byteLimit": 2048000,
      "rowLimit": 10000
     },
     "inputWidgets": {},
     "nuid": "cd1094f9-c539-4018-afcd-58e3880ec90d",
     "showTitle": false,
     "tableResultSettingsMap": {},
     "title": ""
    }
   },
   "source": [
    "## Caminhos"
   ]
  },
  {
   "cell_type": "code",
   "execution_count": 0,
   "metadata": {
    "application/vnd.databricks.v1+cell": {
     "cellMetadata": {
      "byteLimit": 2048000,
      "rowLimit": 10000
     },
     "inputWidgets": {},
     "nuid": "7ab6a60e-2445-4a5c-9645-02605d2f7b32",
     "showTitle": false,
     "tableResultSettingsMap": {},
     "title": ""
    }
   },
   "outputs": [],
   "source": [
    "# Caminho dos arquivos a serem baixados\n",
    "base_dir = \"/dbfs/case_ifood_nyc/bronze/nyc_taxi\"\n",
    "\n",
    "# Pasta de destino\n",
    "path = \"/FileStore/bronze/nyc_taxi\""
   ]
  },
  {
   "cell_type": "markdown",
   "metadata": {
    "application/vnd.databricks.v1+cell": {
     "cellMetadata": {
      "byteLimit": 2048000,
      "rowLimit": 10000
     },
     "inputWidgets": {},
     "nuid": "6413d94c-a6ab-406d-bb6f-65196e5fe84d",
     "showTitle": false,
     "tableResultSettingsMap": {},
     "title": ""
    }
   },
   "source": [
    "## Funções"
   ]
  },
  {
   "cell_type": "code",
   "execution_count": 0,
   "metadata": {
    "application/vnd.databricks.v1+cell": {
     "cellMetadata": {
      "byteLimit": 2048000,
      "rowLimit": 10000
     },
     "inputWidgets": {},
     "nuid": "e6020053-ca3d-4a8f-b8c8-ee006033157a",
     "showTitle": false,
     "tableResultSettingsMap": {},
     "title": ""
    }
   },
   "outputs": [],
   "source": [
    "# Função de processamento\n",
    "def process_month(vehicle, year_month):\n",
    "    try:\n",
    "        year, month = year_month.split(\"-\")\n",
    "        url = f\"https://d37ci6vzurychx.cloudfront.net/trip-data/{vehicle}_tripdata_{year_month}.parquet\"\n",
    "        \n",
    "        print(f\"\\nProcessando {year_month}...\")\n",
    "        print(f\"URL: {url}\")\n",
    "        \n",
    "        # Criar diretório temporário local\n",
    "        with tempfile.TemporaryDirectory() as tmp_dir:\n",
    "            local_path = os.path.join(tmp_dir, f\"{vehicle}_tripdata_{year_month}.parquet\")\n",
    "            \n",
    "            # Download do arquivo\n",
    "            print(\"Baixando arquivo...\")\n",
    "            response = requests.get(url, timeout=30)\n",
    "            response.raise_for_status()\n",
    "            \n",
    "            # Salvar localmente\n",
    "            with open(local_path, 'wb') as f:\n",
    "                f.write(response.content)\n",
    "            \n",
    "            # Carregar para o Spark\n",
    "            print(\"Carregando dados para o Spark...\")\n",
    "            df = spark.read.parquet(f\"file:{local_path}\")\n",
    "            \n",
    "            # Criar diretório de destino no DBFS\n",
    "            output_dir = f\"{base_dir}/{vehicle}/year={year}/month={month}\"\n",
    "            dbutils.fs.mkdirs(output_dir.replace(\"/dbfs\", \"\"))\n",
    "            \n",
    "            # Salvar diretamente com partição no caminho\n",
    "            print(\"Salvando no DBFS...\")\n",
    "            df.write.mode(\"overwrite\").parquet(output_dir.replace(\"/dbfs\", \"dbfs:\"))\n",
    "            \n",
    "            print(f\"✅ Dados salvos em: {output_dir}\")\n",
    "            return True\n",
    "            \n",
    "    except Exception as e:\n",
    "        print(f\"❌ Erro ao processar {year_month}: {str(e)}\")\n",
    "        return False"
   ]
  },
  {
   "cell_type": "markdown",
   "metadata": {
    "application/vnd.databricks.v1+cell": {
     "cellMetadata": {
      "byteLimit": 2048000,
      "rowLimit": 10000
     },
     "inputWidgets": {},
     "nuid": "6acca6b5-b79c-4ef6-898f-370d169d1af4",
     "showTitle": false,
     "tableResultSettingsMap": {},
     "title": ""
    }
   },
   "source": [
    "## Extração dos dados"
   ]
  },
  {
   "cell_type": "markdown",
   "metadata": {
    "application/vnd.databricks.v1+cell": {
     "cellMetadata": {
      "byteLimit": 2048000,
      "rowLimit": 10000
     },
     "inputWidgets": {},
     "nuid": "ebff5224-235e-46f4-85d9-274d551e7e61",
     "showTitle": false,
     "tableResultSettingsMap": {},
     "title": ""
    }
   },
   "source": [
    "##### Parâmetros"
   ]
  },
  {
   "cell_type": "code",
   "execution_count": 0,
   "metadata": {
    "application/vnd.databricks.v1+cell": {
     "cellMetadata": {
      "byteLimit": 2048000,
      "rowLimit": 10000
     },
     "inputWidgets": {},
     "nuid": "851aa20d-8dd4-40b3-a674-65a19ee5ecc1",
     "showTitle": false,
     "tableResultSettingsMap": {},
     "title": ""
    }
   },
   "outputs": [],
   "source": [
    "# Configuração\n",
    "dbutils.widgets.dropdown(\"vehicle_type\", \"yellow\", [\"yellow\", \"green\", \"fhv\", \"fhvhv\"])\n",
    "dbutils.widgets.text(\"start_date\", \"2023-01\", \"Data Início (YYYY-MM)\")\n",
    "dbutils.widgets.text(\"end_date\", \"2023-01\", \"Data Fim (YYYY-MM)\")"
   ]
  },
  {
   "cell_type": "code",
   "execution_count": 0,
   "metadata": {
    "application/vnd.databricks.v1+cell": {
     "cellMetadata": {
      "byteLimit": 2048000,
      "rowLimit": 10000
     },
     "inputWidgets": {},
     "nuid": "b741da40-a143-4b68-a831-73f310ba4d76",
     "showTitle": false,
     "tableResultSettingsMap": {},
     "title": ""
    }
   },
   "outputs": [
    {
     "output_type": "stream",
     "name": "stdout",
     "output_type": "stream",
     "text": [
      "Processando fhvhv táxis de 2023-01 a 2023-05\n"
     ]
    }
   ],
   "source": [
    "# Obter parâmetros escolhidos\n",
    "vehicle_type = dbutils.widgets.get(\"vehicle_type\")\n",
    "start_date = dbutils.widgets.get(\"start_date\")\n",
    "end_date = dbutils.widgets.get(\"end_date\")\n",
    "\n",
    "print(f\"Processando {vehicle_type} táxis de {start_date} a {end_date}\")"
   ]
  },
  {
   "cell_type": "markdown",
   "metadata": {
    "application/vnd.databricks.v1+cell": {
     "cellMetadata": {
      "byteLimit": 2048000,
      "rowLimit": 10000
     },
     "inputWidgets": {},
     "nuid": "eda3576e-5d96-4bae-86a6-cc0a3ea587e4",
     "showTitle": false,
     "tableResultSettingsMap": {},
     "title": ""
    }
   },
   "source": [
    "## Extração"
   ]
  },
  {
   "cell_type": "code",
   "execution_count": 0,
   "metadata": {
    "application/vnd.databricks.v1+cell": {
     "cellMetadata": {
      "byteLimit": 2048000,
      "rowLimit": 10000
     },
     "inputWidgets": {},
     "nuid": "796b5041-518d-4c7a-8d2d-a54d4bfd3e3e",
     "showTitle": false,
     "tableResultSettingsMap": {},
     "title": ""
    }
   },
   "outputs": [],
   "source": [
    "# Criar o diretório\n",
    "os.makedirs(base_dir, exist_ok=True)"
   ]
  },
  {
   "cell_type": "code",
   "execution_count": 0,
   "metadata": {
    "application/vnd.databricks.v1+cell": {
     "cellMetadata": {
      "byteLimit": 2048000,
      "rowLimit": 10000
     },
     "inputWidgets": {},
     "nuid": "0a7722b8-62be-49cf-98b2-5390522b8a72",
     "showTitle": false,
     "tableResultSettingsMap": {},
     "title": ""
    }
   },
   "outputs": [
    {
     "output_type": "stream",
     "name": "stdout",
     "output_type": "stream",
     "text": [
      "\nProcessando 2023-01...\nURL: https://d37ci6vzurychx.cloudfront.net/trip-data/fhvhv_tripdata_2023-01.parquet\nBaixando arquivo...\nCarregando dados para o Spark...\nSalvando no DBFS...\n✅ Dados salvos em: /dbfs/case_ifood_nyc/bronze/nyc_taxi/fhvhv/year=2023/month=01\n\nProcessando 2023-02...\nURL: https://d37ci6vzurychx.cloudfront.net/trip-data/fhvhv_tripdata_2023-02.parquet\nBaixando arquivo...\nCarregando dados para o Spark...\nSalvando no DBFS...\n✅ Dados salvos em: /dbfs/case_ifood_nyc/bronze/nyc_taxi/fhvhv/year=2023/month=02\n\nProcessando 2023-03...\nURL: https://d37ci6vzurychx.cloudfront.net/trip-data/fhvhv_tripdata_2023-03.parquet\nBaixando arquivo...\nCarregando dados para o Spark...\nSalvando no DBFS...\n✅ Dados salvos em: /dbfs/case_ifood_nyc/bronze/nyc_taxi/fhvhv/year=2023/month=03\n\nProcessando 2023-04...\nURL: https://d37ci6vzurychx.cloudfront.net/trip-data/fhvhv_tripdata_2023-04.parquet\nBaixando arquivo...\nCarregando dados para o Spark...\nSalvando no DBFS...\n✅ Dados salvos em: /dbfs/case_ifood_nyc/bronze/nyc_taxi/fhvhv/year=2023/month=04\n\nProcessando 2023-05...\nURL: https://d37ci6vzurychx.cloudfront.net/trip-data/fhvhv_tripdata_2023-05.parquet\nBaixando arquivo...\nCarregando dados para o Spark...\nSalvando no DBFS...\n✅ Dados salvos em: /dbfs/case_ifood_nyc/bronze/nyc_taxi/fhvhv/year=2023/month=05\n"
     ]
    }
   ],
   "source": [
    "\n",
    "# Processar o período\n",
    "start = datetime.strptime(start_date, \"%Y-%m\")\n",
    "end = datetime.strptime(end_date, \"%Y-%m\")\n",
    "current = start\n",
    "success_count = 0\n",
    "\n",
    "while current <= end:\n",
    "    year_month = current.strftime(\"%Y-%m\")\n",
    "    if process_month(vehicle_type, year_month):\n",
    "        success_count += 1\n",
    "    current += relativedelta(months=1)"
   ]
  },
  {
   "cell_type": "code",
   "execution_count": 0,
   "metadata": {
    "application/vnd.databricks.v1+cell": {
     "cellMetadata": {
      "byteLimit": 2048000,
      "rowLimit": 10000
     },
     "inputWidgets": {},
     "nuid": "342349fd-7b54-491a-83d7-27039ad08a8a",
     "showTitle": false,
     "tableResultSettingsMap": {},
     "title": ""
    }
   },
   "outputs": [
    {
     "output_type": "stream",
     "name": "stdout",
     "output_type": "stream",
     "text": [
      "\nRegistrando tabela no metastore...\nTabela registrada: case_ifood_nyc_taxi.bronze_fhvhv_taxi\n\nPartições disponíveis:\n"
     ]
    },
    {
     "output_type": "display_data",
     "data": {
      "text/html": [
       "<style scoped>\n",
       "  .table-result-container {\n",
       "    max-height: 300px;\n",
       "    overflow: auto;\n",
       "  }\n",
       "  table, th, td {\n",
       "    border: 1px solid black;\n",
       "    border-collapse: collapse;\n",
       "  }\n",
       "  th, td {\n",
       "    padding: 5px;\n",
       "  }\n",
       "  th {\n",
       "    text-align: left;\n",
       "  }\n",
       "</style><div class='table-result-container'><table class='table-result'><thead style='background-color: white'><tr><th>partition</th></tr></thead><tbody><tr><td>year=2023/month=01</td></tr><tr><td>year=2023/month=02</td></tr><tr><td>year=2023/month=03</td></tr><tr><td>year=2023/month=04</td></tr><tr><td>year=2023/month=05</td></tr></tbody></table></div>"
      ]
     },
     "metadata": {
      "application/vnd.databricks.v1+output": {
       "addedWidgets": {},
       "aggData": [],
       "aggError": "",
       "aggOverflow": false,
       "aggSchema": [],
       "aggSeriesLimitReached": false,
       "aggType": "",
       "arguments": {},
       "columnCustomDisplayInfos": {},
       "data": [
        [
         "year=2023/month=01"
        ],
        [
         "year=2023/month=02"
        ],
        [
         "year=2023/month=03"
        ],
        [
         "year=2023/month=04"
        ],
        [
         "year=2023/month=05"
        ]
       ],
       "datasetInfos": [],
       "dbfsResultPath": null,
       "isJsonSchema": true,
       "metadata": {},
       "overflow": false,
       "plotOptions": {
        "customPlotOptions": {},
        "displayType": "table",
        "pivotAggregation": null,
        "pivotColumns": null,
        "xColumns": null,
        "yColumns": null
       },
       "removedWidgets": [],
       "schema": [
        {
         "metadata": "{}",
         "name": "partition",
         "type": "\"string\""
        }
       ],
       "type": "table"
      }
     },
     "output_type": "display_data"
    },
    {
     "output_type": "stream",
     "name": "stdout",
     "output_type": "stream",
     "text": [
      "\nAmostra dos dados:\n"
     ]
    },
    {
     "output_type": "display_data",
     "data": {
      "text/html": [
       "<style scoped>\n",
       "  .table-result-container {\n",
       "    max-height: 300px;\n",
       "    overflow: auto;\n",
       "  }\n",
       "  table, th, td {\n",
       "    border: 1px solid black;\n",
       "    border-collapse: collapse;\n",
       "  }\n",
       "  th, td {\n",
       "    padding: 5px;\n",
       "  }\n",
       "  th {\n",
       "    text-align: left;\n",
       "  }\n",
       "</style><div class='table-result-container'><table class='table-result'><thead style='background-color: white'><tr><th>hvfhs_license_num</th><th>dispatching_base_num</th><th>originating_base_num</th><th>request_datetime</th><th>on_scene_datetime</th><th>pickup_datetime</th><th>dropoff_datetime</th><th>PULocationID</th><th>DOLocationID</th><th>trip_miles</th><th>trip_time</th><th>base_passenger_fare</th><th>tolls</th><th>bcf</th><th>sales_tax</th><th>congestion_surcharge</th><th>airport_fee</th><th>tips</th><th>driver_pay</th><th>shared_request_flag</th><th>shared_match_flag</th><th>access_a_ride_flag</th><th>wav_request_flag</th><th>wav_match_flag</th><th>year</th><th>month</th></tr></thead><tbody><tr><td>HV0003</td><td>B03404</td><td>B03404</td><td>2023-01-01T00:18:06.000+0000</td><td>2023-01-01T00:19:24.000+0000</td><td>2023-01-01T00:19:38.000+0000</td><td>2023-01-01T00:48:07.000+0000</td><td>48</td><td>68</td><td>0.94</td><td>1709</td><td>25.95</td><td>0.0</td><td>0.78</td><td>2.3</td><td>2.75</td><td>0.0</td><td>5.22</td><td>27.83</td><td>N</td><td>N</td><td> </td><td>N</td><td>N</td><td>2023</td><td>1</td></tr><tr><td>HV0003</td><td>B03404</td><td>B03404</td><td>2023-01-01T00:48:42.000+0000</td><td>2023-01-01T00:56:20.000+0000</td><td>2023-01-01T00:58:39.000+0000</td><td>2023-01-01T01:33:08.000+0000</td><td>246</td><td>163</td><td>2.78</td><td>2069</td><td>60.14</td><td>0.0</td><td>1.8</td><td>5.34</td><td>2.75</td><td>0.0</td><td>0.0</td><td>50.15</td><td>N</td><td>N</td><td> </td><td>N</td><td>N</td><td>2023</td><td>1</td></tr><tr><td>HV0003</td><td>B03404</td><td>B03404</td><td>2023-01-01T00:15:35.000+0000</td><td>2023-01-01T00:20:14.000+0000</td><td>2023-01-01T00:20:27.000+0000</td><td>2023-01-01T00:37:54.000+0000</td><td>9</td><td>129</td><td>8.81</td><td>1047</td><td>24.37</td><td>0.0</td><td>0.73</td><td>2.16</td><td>0.0</td><td>0.0</td><td>0.0</td><td>20.22</td><td>N</td><td>N</td><td> </td><td>N</td><td>N</td><td>2023</td><td>1</td></tr><tr><td>HV0003</td><td>B03404</td><td>B03404</td><td>2023-01-01T00:35:24.000+0000</td><td>2023-01-01T00:39:30.000+0000</td><td>2023-01-01T00:41:05.000+0000</td><td>2023-01-01T00:48:16.000+0000</td><td>129</td><td>129</td><td>0.67</td><td>431</td><td>13.8</td><td>0.0</td><td>0.41</td><td>1.22</td><td>0.0</td><td>0.0</td><td>0.0</td><td>7.9</td><td>N</td><td>N</td><td> </td><td>N</td><td>N</td><td>2023</td><td>1</td></tr><tr><td>HV0003</td><td>B03404</td><td>B03404</td><td>2023-01-01T00:43:15.000+0000</td><td>2023-01-01T00:51:10.000+0000</td><td>2023-01-01T00:52:47.000+0000</td><td>2023-01-01T01:04:51.000+0000</td><td>129</td><td>92</td><td>4.38</td><td>724</td><td>20.49</td><td>0.0</td><td>0.61</td><td>1.82</td><td>0.0</td><td>0.0</td><td>0.0</td><td>16.48</td><td>N</td><td>N</td><td> </td><td>N</td><td>N</td><td>2023</td><td>1</td></tr></tbody></table></div>"
      ]
     },
     "metadata": {
      "application/vnd.databricks.v1+output": {
       "addedWidgets": {},
       "aggData": [],
       "aggError": "",
       "aggOverflow": false,
       "aggSchema": [],
       "aggSeriesLimitReached": false,
       "aggType": "",
       "arguments": {},
       "columnCustomDisplayInfos": {},
       "data": [
        [
         "HV0003",
         "B03404",
         "B03404",
         "2023-01-01T00:18:06.000+0000",
         "2023-01-01T00:19:24.000+0000",
         "2023-01-01T00:19:38.000+0000",
         "2023-01-01T00:48:07.000+0000",
         48,
         68,
         0.94,
         1709,
         25.95,
         0.0,
         0.78,
         2.3,
         2.75,
         0.0,
         5.22,
         27.83,
         "N",
         "N",
         " ",
         "N",
         "N",
         2023,
         1
        ],
        [
         "HV0003",
         "B03404",
         "B03404",
         "2023-01-01T00:48:42.000+0000",
         "2023-01-01T00:56:20.000+0000",
         "2023-01-01T00:58:39.000+0000",
         "2023-01-01T01:33:08.000+0000",
         246,
         163,
         2.78,
         2069,
         60.14,
         0.0,
         1.8,
         5.34,
         2.75,
         0.0,
         0.0,
         50.15,
         "N",
         "N",
         " ",
         "N",
         "N",
         2023,
         1
        ],
        [
         "HV0003",
         "B03404",
         "B03404",
         "2023-01-01T00:15:35.000+0000",
         "2023-01-01T00:20:14.000+0000",
         "2023-01-01T00:20:27.000+0000",
         "2023-01-01T00:37:54.000+0000",
         9,
         129,
         8.81,
         1047,
         24.37,
         0.0,
         0.73,
         2.16,
         0.0,
         0.0,
         0.0,
         20.22,
         "N",
         "N",
         " ",
         "N",
         "N",
         2023,
         1
        ],
        [
         "HV0003",
         "B03404",
         "B03404",
         "2023-01-01T00:35:24.000+0000",
         "2023-01-01T00:39:30.000+0000",
         "2023-01-01T00:41:05.000+0000",
         "2023-01-01T00:48:16.000+0000",
         129,
         129,
         0.67,
         431,
         13.8,
         0.0,
         0.41,
         1.22,
         0.0,
         0.0,
         0.0,
         7.9,
         "N",
         "N",
         " ",
         "N",
         "N",
         2023,
         1
        ],
        [
         "HV0003",
         "B03404",
         "B03404",
         "2023-01-01T00:43:15.000+0000",
         "2023-01-01T00:51:10.000+0000",
         "2023-01-01T00:52:47.000+0000",
         "2023-01-01T01:04:51.000+0000",
         129,
         92,
         4.38,
         724,
         20.49,
         0.0,
         0.61,
         1.82,
         0.0,
         0.0,
         0.0,
         16.48,
         "N",
         "N",
         " ",
         "N",
         "N",
         2023,
         1
        ]
       ],
       "datasetInfos": [],
       "dbfsResultPath": null,
       "isJsonSchema": true,
       "metadata": {},
       "overflow": false,
       "plotOptions": {
        "customPlotOptions": {},
        "displayType": "table",
        "pivotAggregation": null,
        "pivotColumns": null,
        "xColumns": null,
        "yColumns": null
       },
       "removedWidgets": [],
       "schema": [
        {
         "metadata": "{}",
         "name": "hvfhs_license_num",
         "type": "\"string\""
        },
        {
         "metadata": "{}",
         "name": "dispatching_base_num",
         "type": "\"string\""
        },
        {
         "metadata": "{}",
         "name": "originating_base_num",
         "type": "\"string\""
        },
        {
         "metadata": "{}",
         "name": "request_datetime",
         "type": "\"timestamp\""
        },
        {
         "metadata": "{}",
         "name": "on_scene_datetime",
         "type": "\"timestamp\""
        },
        {
         "metadata": "{}",
         "name": "pickup_datetime",
         "type": "\"timestamp\""
        },
        {
         "metadata": "{}",
         "name": "dropoff_datetime",
         "type": "\"timestamp\""
        },
        {
         "metadata": "{}",
         "name": "PULocationID",
         "type": "\"long\""
        },
        {
         "metadata": "{}",
         "name": "DOLocationID",
         "type": "\"long\""
        },
        {
         "metadata": "{}",
         "name": "trip_miles",
         "type": "\"double\""
        },
        {
         "metadata": "{}",
         "name": "trip_time",
         "type": "\"long\""
        },
        {
         "metadata": "{}",
         "name": "base_passenger_fare",
         "type": "\"double\""
        },
        {
         "metadata": "{}",
         "name": "tolls",
         "type": "\"double\""
        },
        {
         "metadata": "{}",
         "name": "bcf",
         "type": "\"double\""
        },
        {
         "metadata": "{}",
         "name": "sales_tax",
         "type": "\"double\""
        },
        {
         "metadata": "{}",
         "name": "congestion_surcharge",
         "type": "\"double\""
        },
        {
         "metadata": "{}",
         "name": "airport_fee",
         "type": "\"double\""
        },
        {
         "metadata": "{}",
         "name": "tips",
         "type": "\"double\""
        },
        {
         "metadata": "{}",
         "name": "driver_pay",
         "type": "\"double\""
        },
        {
         "metadata": "{}",
         "name": "shared_request_flag",
         "type": "\"string\""
        },
        {
         "metadata": "{}",
         "name": "shared_match_flag",
         "type": "\"string\""
        },
        {
         "metadata": "{}",
         "name": "access_a_ride_flag",
         "type": "\"string\""
        },
        {
         "metadata": "{}",
         "name": "wav_request_flag",
         "type": "\"string\""
        },
        {
         "metadata": "{}",
         "name": "wav_match_flag",
         "type": "\"string\""
        },
        {
         "metadata": "{}",
         "name": "year",
         "type": "\"integer\""
        },
        {
         "metadata": "{}",
         "name": "month",
         "type": "\"integer\""
        }
       ],
       "type": "table"
      }
     },
     "output_type": "display_data"
    }
   ],
   "source": [
    "# Registrar tabela\n",
    "if success_count > 0:\n",
    "    print(\"\\nRegistrando tabela no metastore...\")\n",
    "    spark.sql(\"CREATE DATABASE IF NOT EXISTS case_ifood_nyc_taxi\") # Criar schema\n",
    "    \n",
    "    # Definir nome da tabela\n",
    "    table_name = f\"bronze_{vehicle_type}_taxi\"\n",
    "    \n",
    "    # Eliminar a tabela se existir\n",
    "    spark.sql(f\"DROP TABLE IF EXISTS case_ifood_nyc_taxi.{table_name}\")\n",
    "    \n",
    "    # Criar tabela externa apontando para o local correto\n",
    "    spark.sql(f\"\"\"\n",
    "        CREATE TABLE case_ifood_nyc_taxi.{table_name}\n",
    "        USING PARQUET\n",
    "        LOCATION 'dbfs:/case_ifood_nyc/bronze/nyc_taxi/{vehicle_type}'\n",
    "    \"\"\")\n",
    "    \n",
    "    # Atualizar metadados\n",
    "    spark.sql(f\"MSCK REPAIR TABLE case_ifood_nyc_taxi.{table_name}\")\n",
    "    \n",
    "    print(f\"Tabela registrada: case_ifood_nyc_taxi.{table_name}\")\n",
    "    \n",
    "    print(\"\\nPartições disponíveis:\")\n",
    "    display(spark.sql(f\"SHOW PARTITIONS case_ifood_nyc_taxi.{table_name}\"))\n",
    "    \n",
    "    print(\"\\nAmostra dos dados:\")\n",
    "    display(spark.table(f\"case_ifood_nyc_taxi.{table_name}\").limit(5))\n",
    "else:\n",
    "    print(\"\\nNenhum mês foi processado com sucesso.\")"
   ]
  }
 ],
 "metadata": {
  "application/vnd.databricks.v1+notebook": {
   "computePreferences": null,
   "dashboards": [],
   "environmentMetadata": {
    "base_environment": "",
    "environment_version": "1"
   },
   "inputWidgetPreferences": null,
   "language": "python",
   "notebookMetadata": {
    "pythonIndentUnit": 4,
    "widgetLayout": []
   },
   "notebookName": "01_bronze_ifood_dataExtract_nycTaxiData",
   "widgets": {
    "end_date": {
     "currentValue": "2023-05",
     "nuid": "0ca4f260-07d8-46e3-b0e9-3578e7cb6a44",
     "typedWidgetInfo": {
      "autoCreated": false,
      "defaultValue": "2023-01",
      "label": "Data Fim (YYYY-MM)",
      "name": "end_date",
      "options": {
       "widgetDisplayType": "Text",
       "validationRegex": null
      },
      "parameterDataType": "String"
     },
     "widgetInfo": {
      "widgetType": "text",
      "defaultValue": "2023-01",
      "label": "Data Fim (YYYY-MM)",
      "name": "end_date",
      "options": {
       "widgetType": "text",
       "autoCreated": null,
       "validationRegex": null
      }
     }
    },
    "start_date": {
     "currentValue": "2023-01",
     "nuid": "ffd33c9e-5ae4-44f1-b562-7856cedb7419",
     "typedWidgetInfo": {
      "autoCreated": false,
      "defaultValue": "2023-01",
      "label": "Data Início (YYYY-MM)",
      "name": "start_date",
      "options": {
       "widgetDisplayType": "Text",
       "validationRegex": null
      },
      "parameterDataType": "String"
     },
     "widgetInfo": {
      "widgetType": "text",
      "defaultValue": "2023-01",
      "label": "Data Início (YYYY-MM)",
      "name": "start_date",
      "options": {
       "widgetType": "text",
       "autoCreated": null,
       "validationRegex": null
      }
     }
    },
    "vehicle_type": {
     "currentValue": "fhvhv",
     "nuid": "a8a4a349-bd72-422e-b1a3-df9b91a4b629",
     "typedWidgetInfo": {
      "autoCreated": false,
      "defaultValue": "yellow",
      "label": null,
      "name": "vehicle_type",
      "options": {
       "widgetDisplayType": "Dropdown",
       "choices": [
        "yellow",
        "green",
        "fhv",
        "fhvhv"
       ],
       "fixedDomain": true,
       "multiselect": false
      },
      "parameterDataType": "String"
     },
     "widgetInfo": {
      "widgetType": "dropdown",
      "defaultValue": "yellow",
      "label": null,
      "name": "vehicle_type",
      "options": {
       "widgetType": "dropdown",
       "autoCreated": null,
       "choices": [
        "yellow",
        "green",
        "fhv",
        "fhvhv"
       ]
      }
     }
    }
   }
  }
 },
 "nbformat": 4,
 "nbformat_minor": 0
}