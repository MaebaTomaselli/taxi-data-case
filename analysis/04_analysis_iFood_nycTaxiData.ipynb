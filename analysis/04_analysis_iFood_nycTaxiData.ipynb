{
 "cells": [
  {
   "cell_type": "markdown",
   "metadata": {
    "application/vnd.databricks.v1+cell": {
     "cellMetadata": {
      "byteLimit": 2048000,
      "rowLimit": 10000
     },
     "inputWidgets": {},
     "nuid": "9361d175-1308-4a33-897f-d4e3bd1024d0",
     "showTitle": false,
     "tableResultSettingsMap": {},
     "title": ""
    }
   },
   "source": [
    "# Análise dos dados de viagens de táxis de Nova York - dados da NYC"
   ]
  },
  {
   "cell_type": "markdown",
   "metadata": {
    "application/vnd.databricks.v1+cell": {
     "cellMetadata": {
      "byteLimit": 2048000,
      "rowLimit": 10000
     },
     "inputWidgets": {},
     "nuid": "cd7d1b76-2bdc-470a-9531-30b2aed8d687",
     "showTitle": false,
     "tableResultSettingsMap": {},
     "title": ""
    }
   },
   "source": [
    "## Bibliotecas"
   ]
  },
  {
   "cell_type": "code",
   "execution_count": 0,
   "metadata": {
    "application/vnd.databricks.v1+cell": {
     "cellMetadata": {
      "byteLimit": 2048000,
      "rowLimit": 10000
     },
     "inputWidgets": {},
     "nuid": "bcf68e42-039e-4064-aae4-e9933b323a00",
     "showTitle": false,
     "tableResultSettingsMap": {},
     "title": ""
    }
   },
   "outputs": [],
   "source": [
    "from pyspark.sql.functions import col, avg, round, count\n",
    "import matplotlib.pyplot as plt"
   ]
  },
  {
   "cell_type": "markdown",
   "metadata": {
    "application/vnd.databricks.v1+cell": {
     "cellMetadata": {
      "byteLimit": 2048000,
      "rowLimit": 10000
     },
     "inputWidgets": {},
     "nuid": "82e01513-5255-48c9-a73c-4b21d8ebee06",
     "showTitle": false,
     "tableResultSettingsMap": {},
     "title": ""
    }
   },
   "source": [
    "## Parâmetros"
   ]
  },
  {
   "cell_type": "code",
   "execution_count": 0,
   "metadata": {
    "application/vnd.databricks.v1+cell": {
     "cellMetadata": {
      "byteLimit": 2048000,
      "rowLimit": 10000
     },
     "inputWidgets": {},
     "nuid": "63587027-8f7f-439d-bd3f-7428d7dc5256",
     "showTitle": false,
     "tableResultSettingsMap": {},
     "title": ""
    }
   },
   "outputs": [
    {
     "output_type": "stream",
     "name": "stdout",
     "output_type": "stream",
     "text": [
      "Análise para o mês 5/2023\n"
     ]
    }
   ],
   "source": [
    "# Configuração Inicial\n",
    "dbutils.widgets.text(\"analysis_month\", \"2023-05\", \"Mês de Análise (YYYY-MM)\")\n",
    "\n",
    "# Obter Parâmetro\n",
    "analysis_month = dbutils.widgets.get(\"analysis_month\")\n",
    "year = int(year)  # Convertendo para inteiro\n",
    "month = int(month)  # Convertendo para inteiro\n",
    "\n",
    "print(f\"Análise para o mês {month}/{year}\")\n",
    "\n",
    "# Conectar à tabela Gold\n",
    "gold_table = \"case_ifood_nyc_taxi.gold_unified_taxi\""
   ]
  },
  {
   "cell_type": "markdown",
   "metadata": {
    "application/vnd.databricks.v1+cell": {
     "cellMetadata": {
      "byteLimit": 2048000,
      "rowLimit": 10000
     },
     "inputWidgets": {},
     "nuid": "198a766b-3d1d-4542-9269-af456527dc59",
     "showTitle": false,
     "tableResultSettingsMap": {},
     "title": ""
    }
   },
   "source": [
    "## Análise 1: Média do Valor Total (Yellow Taxis)"
   ]
  },
  {
   "cell_type": "code",
   "execution_count": 0,
   "metadata": {
    "application/vnd.databricks.v1+cell": {
     "cellMetadata": {
      "byteLimit": 2048000,
      "rowLimit": 10000
     },
     "inputWidgets": {},
     "nuid": "cc1afe0e-a385-41e9-8af7-2e4bb470d7fb",
     "showTitle": false,
     "tableResultSettingsMap": {},
     "title": ""
    }
   },
   "outputs": [
    {
     "output_type": "display_data",
     "data": {
      "text/html": [
       "<style scoped>\n",
       "  .table-result-container {\n",
       "    max-height: 300px;\n",
       "    overflow: auto;\n",
       "  }\n",
       "  table, th, td {\n",
       "    border: 1px solid black;\n",
       "    border-collapse: collapse;\n",
       "  }\n",
       "  th, td {\n",
       "    padding: 5px;\n",
       "  }\n",
       "  th {\n",
       "    text-align: left;\n",
       "  }\n",
       "</style><div class='table-result-container'><table class='table-result'><thead style='background-color: white'><tr><th>avg_total_amount</th><th>vehicle_type</th></tr></thead><tbody><tr><td>28.96</td><td>yellow</td></tr></tbody></table></div>"
      ]
     },
     "metadata": {
      "application/vnd.databricks.v1+output": {
       "addedWidgets": {},
       "aggData": [],
       "aggError": "",
       "aggOverflow": false,
       "aggSchema": [],
       "aggSeriesLimitReached": false,
       "aggType": "",
       "arguments": {},
       "columnCustomDisplayInfos": {},
       "data": [
        [
         28.96,
         "yellow"
        ]
       ],
       "datasetInfos": [],
       "dbfsResultPath": null,
       "isJsonSchema": true,
       "metadata": {},
       "overflow": false,
       "plotOptions": {
        "customPlotOptions": {},
        "displayType": "table",
        "pivotAggregation": null,
        "pivotColumns": null,
        "xColumns": null,
        "yColumns": null
       },
       "removedWidgets": [],
       "schema": [
        {
         "metadata": "{}",
         "name": "avg_total_amount",
         "type": "\"double\""
        },
        {
         "metadata": "{}",
         "name": "vehicle_type",
         "type": "\"string\""
        }
       ],
       "type": "table"
      }
     },
     "output_type": "display_data"
    }
   ],
   "source": [
    "# SQL\n",
    "avg_amount_query = f\"\"\"\n",
    "SELECT \n",
    "    ROUND(AVG(total_amount), 2) AS avg_total_amount,\n",
    "    vehicle_type\n",
    "FROM {gold_table}\n",
    "WHERE \n",
    "    vehicle_type = 'yellow'\n",
    "    AND meta_file_year = {year}\n",
    "    AND meta_file_month = {month}\n",
    "GROUP BY vehicle_type\n",
    "\"\"\"\n",
    "\n",
    "display(spark.sql(avg_amount_query))"
   ]
  },
  {
   "cell_type": "code",
   "execution_count": 0,
   "metadata": {
    "application/vnd.databricks.v1+cell": {
     "cellMetadata": {
      "byteLimit": 2048000,
      "rowLimit": 10000
     },
     "inputWidgets": {},
     "nuid": "fae4415e-8dfb-4063-8a4e-d9b1b3d09a93",
     "showTitle": false,
     "tableResultSettingsMap": {},
     "title": ""
    }
   },
   "outputs": [
    {
     "output_type": "display_data",
     "data": {
      "text/html": [
       "<style scoped>\n",
       "  .table-result-container {\n",
       "    max-height: 300px;\n",
       "    overflow: auto;\n",
       "  }\n",
       "  table, th, td {\n",
       "    border: 1px solid black;\n",
       "    border-collapse: collapse;\n",
       "  }\n",
       "  th, td {\n",
       "    padding: 5px;\n",
       "  }\n",
       "  th {\n",
       "    text-align: left;\n",
       "  }\n",
       "</style><div class='table-result-container'><table class='table-result'><thead style='background-color: white'><tr><th>vehicle_type</th><th>year</th><th>month</th><th>avg_total_amount</th></tr></thead><tbody><tr><td>green</td><td>2023</td><td>1</td><td>21.79</td></tr><tr><td>green</td><td>2023</td><td>2</td><td>21.88</td></tr><tr><td>green</td><td>2023</td><td>3</td><td>22.29</td></tr><tr><td>green</td><td>2023</td><td>4</td><td>23.08</td></tr><tr><td>green</td><td>2023</td><td>5</td><td>23.82</td></tr><tr><td>yellow</td><td>2023</td><td>1</td><td>27.02</td></tr><tr><td>yellow</td><td>2023</td><td>2</td><td>26.9</td></tr><tr><td>yellow</td><td>2023</td><td>3</td><td>27.8</td></tr><tr><td>yellow</td><td>2023</td><td>4</td><td>28.27</td></tr><tr><td>yellow</td><td>2023</td><td>5</td><td>28.96</td></tr></tbody></table></div>"
      ]
     },
     "metadata": {
      "application/vnd.databricks.v1+output": {
       "addedWidgets": {},
       "aggData": [],
       "aggError": "",
       "aggOverflow": false,
       "aggSchema": [],
       "aggSeriesLimitReached": false,
       "aggType": "",
       "arguments": {},
       "columnCustomDisplayInfos": {},
       "data": [
        [
         "green",
         2023,
         1,
         21.79
        ],
        [
         "green",
         2023,
         2,
         21.88
        ],
        [
         "green",
         2023,
         3,
         22.29
        ],
        [
         "green",
         2023,
         4,
         23.08
        ],
        [
         "green",
         2023,
         5,
         23.82
        ],
        [
         "yellow",
         2023,
         1,
         27.02
        ],
        [
         "yellow",
         2023,
         2,
         26.9
        ],
        [
         "yellow",
         2023,
         3,
         27.8
        ],
        [
         "yellow",
         2023,
         4,
         28.27
        ],
        [
         "yellow",
         2023,
         5,
         28.96
        ]
       ],
       "datasetInfos": [],
       "dbfsResultPath": null,
       "isJsonSchema": true,
       "metadata": {},
       "overflow": false,
       "plotOptions": {
        "customPlotOptions": {},
        "displayType": "table",
        "pivotAggregation": null,
        "pivotColumns": null,
        "xColumns": null,
        "yColumns": null
       },
       "removedWidgets": [],
       "schema": [
        {
         "metadata": "{}",
         "name": "vehicle_type",
         "type": "\"string\""
        },
        {
         "metadata": "{}",
         "name": "year",
         "type": "\"integer\""
        },
        {
         "metadata": "{}",
         "name": "month",
         "type": "\"integer\""
        },
        {
         "metadata": "{}",
         "name": "avg_total_amount",
         "type": "\"double\""
        }
       ],
       "type": "table"
      }
     },
     "output_type": "display_data"
    }
   ],
   "source": [
    "# SQL para todos os meses\n",
    "avg_amount_query_all_months = f\"\"\"\n",
    "SELECT \n",
    "    vehicle_type,\n",
    "    meta_file_year AS year,\n",
    "    meta_file_month AS month,\n",
    "    ROUND(AVG(total_amount), 2) AS avg_total_amount\n",
    "FROM {gold_table}\n",
    "WHERE \n",
    "    vehicle_type IN ('yellow', 'green')\n",
    "GROUP BY \n",
    "    vehicle_type, \n",
    "    meta_file_year, \n",
    "    meta_file_month\n",
    "ORDER BY \n",
    "    vehicle_type,\n",
    "    year,\n",
    "    month\n",
    "\"\"\"\n",
    "\n",
    "# Executar a consulta e exibir os resultados\n",
    "df_avg_all_months = spark.sql(avg_amount_query_all_months)\n",
    "display(df_avg_all_months)"
   ]
  },
  {
   "cell_type": "markdown",
   "metadata": {
    "application/vnd.databricks.v1+cell": {
     "cellMetadata": {
      "byteLimit": 2048000,
      "rowLimit": 10000
     },
     "inputWidgets": {},
     "nuid": "26ae33b6-b88c-4371-8106-bf2eb0d3b8a0",
     "showTitle": false,
     "tableResultSettingsMap": {},
     "title": ""
    }
   },
   "source": [
    "## Análise 2: Média de Passageiros por Hora (Todos os Táxis - Maio)"
   ]
  },
  {
   "cell_type": "code",
   "execution_count": 0,
   "metadata": {
    "application/vnd.databricks.v1+cell": {
     "cellMetadata": {
      "byteLimit": 2048000,
      "rowLimit": 10000
     },
     "inputWidgets": {},
     "nuid": "19212a44-8eb9-40f3-a12f-8241c9e6a277",
     "showTitle": false,
     "tableResultSettingsMap": {},
     "title": ""
    }
   },
   "outputs": [
    {
     "output_type": "display_data",
     "data": {
      "text/html": [
       "<style scoped>\n",
       "  .table-result-container {\n",
       "    max-height: 300px;\n",
       "    overflow: auto;\n",
       "  }\n",
       "  table, th, td {\n",
       "    border: 1px solid black;\n",
       "    border-collapse: collapse;\n",
       "  }\n",
       "  th, td {\n",
       "    padding: 5px;\n",
       "  }\n",
       "  th {\n",
       "    text-align: left;\n",
       "  }\n",
       "</style><div class='table-result-container'><table class='table-result'><thead style='background-color: white'><tr><th>pickup_hour</th><th>avg_passengers</th><th>total_trips</th></tr></thead><tbody><tr><td>0</td><td>1.42</td><td>95270</td></tr><tr><td>1</td><td>1.43</td><td>62151</td></tr><tr><td>2</td><td>1.45</td><td>40299</td></tr><tr><td>3</td><td>1.44</td><td>26597</td></tr><tr><td>4</td><td>1.4</td><td>18432</td></tr><tr><td>5</td><td>1.28</td><td>20754</td></tr><tr><td>6</td><td>1.26</td><td>50692</td></tr><tr><td>7</td><td>1.27</td><td>102263</td></tr><tr><td>8</td><td>1.29</td><td>138841</td></tr><tr><td>9</td><td>1.3</td><td>153788</td></tr><tr><td>10</td><td>1.34</td><td>166021</td></tr><tr><td>11</td><td>1.35</td><td>180368</td></tr><tr><td>12</td><td>1.37</td><td>194159</td></tr><tr><td>13</td><td>1.37</td><td>198508</td></tr><tr><td>14</td><td>1.38</td><td>216334</td></tr><tr><td>15</td><td>1.39</td><td>221302</td></tr><tr><td>16</td><td>1.39</td><td>221488</td></tr><tr><td>17</td><td>1.38</td><td>241457</td></tr><tr><td>18</td><td>1.37</td><td>255872</td></tr><tr><td>19</td><td>1.38</td><td>228561</td></tr><tr><td>20</td><td>1.39</td><td>202175</td></tr><tr><td>21</td><td>1.41</td><td>206226</td></tr><tr><td>22</td><td>1.42</td><td>191346</td></tr><tr><td>23</td><td>1.42</td><td>149919</td></tr></tbody></table></div>"
      ]
     },
     "metadata": {
      "application/vnd.databricks.v1+output": {
       "addedWidgets": {},
       "aggData": [],
       "aggError": "",
       "aggOverflow": false,
       "aggSchema": [],
       "aggSeriesLimitReached": false,
       "aggType": "",
       "arguments": {},
       "columnCustomDisplayInfos": {},
       "data": [
        [
         0,
         1.42,
         95270
        ],
        [
         1,
         1.43,
         62151
        ],
        [
         2,
         1.45,
         40299
        ],
        [
         3,
         1.44,
         26597
        ],
        [
         4,
         1.4,
         18432
        ],
        [
         5,
         1.28,
         20754
        ],
        [
         6,
         1.26,
         50692
        ],
        [
         7,
         1.27,
         102263
        ],
        [
         8,
         1.29,
         138841
        ],
        [
         9,
         1.3,
         153788
        ],
        [
         10,
         1.34,
         166021
        ],
        [
         11,
         1.35,
         180368
        ],
        [
         12,
         1.37,
         194159
        ],
        [
         13,
         1.37,
         198508
        ],
        [
         14,
         1.38,
         216334
        ],
        [
         15,
         1.39,
         221302
        ],
        [
         16,
         1.39,
         221488
        ],
        [
         17,
         1.38,
         241457
        ],
        [
         18,
         1.37,
         255872
        ],
        [
         19,
         1.38,
         228561
        ],
        [
         20,
         1.39,
         202175
        ],
        [
         21,
         1.41,
         206226
        ],
        [
         22,
         1.42,
         191346
        ],
        [
         23,
         1.42,
         149919
        ]
       ],
       "datasetInfos": [],
       "dbfsResultPath": null,
       "isJsonSchema": true,
       "metadata": {},
       "overflow": false,
       "plotOptions": {
        "customPlotOptions": {},
        "displayType": "table",
        "pivotAggregation": null,
        "pivotColumns": null,
        "xColumns": null,
        "yColumns": null
       },
       "removedWidgets": [],
       "schema": [
        {
         "metadata": "{}",
         "name": "pickup_hour",
         "type": "\"integer\""
        },
        {
         "metadata": "{}",
         "name": "avg_passengers",
         "type": "\"double\""
        },
        {
         "metadata": "{}",
         "name": "total_trips",
         "type": "\"long\""
        }
       ],
       "type": "table"
      }
     },
     "output_type": "display_data"
    }
   ],
   "source": [
    "from pyspark.sql.functions import col, avg, round, count\n",
    "\n",
    "# Código corrigido com parênteses adequados\n",
    "passengers_by_hour = (spark.table(gold_table)\n",
    "    .filter(\n",
    "        (col(\"meta_file_year\") == year) & \n",
    "        (col(\"meta_file_month\") == month)\n",
    "    )\n",
    "    .groupBy(\"pickup_hour\")\n",
    "    .agg(\n",
    "        round(avg(\"passenger_count\"), 2).alias(\"avg_passengers\"),\n",
    "        count(\"*\").alias(\"total_trips\")\n",
    "    )\n",
    "    .orderBy(\"pickup_hour\"))\n",
    "\n",
    "display(passengers_by_hour)"
   ]
  },
  {
   "cell_type": "markdown",
   "metadata": {
    "application/vnd.databricks.v1+cell": {
     "cellMetadata": {
      "byteLimit": 2048000,
      "rowLimit": 10000
     },
     "inputWidgets": {},
     "nuid": "f8d20299-dccb-4281-a226-837caffaff2a",
     "showTitle": false,
     "tableResultSettingsMap": {},
     "title": ""
    }
   },
   "source": [
    "## Exra 1 - Gráfico de passageiro por hora"
   ]
  },
  {
   "cell_type": "code",
   "execution_count": 0,
   "metadata": {
    "application/vnd.databricks.v1+cell": {
     "cellMetadata": {
      "byteLimit": 2048000,
      "rowLimit": 10000
     },
     "inputWidgets": {},
     "nuid": "fe2653f5-0abc-46d6-8661-f0e7200929c6",
     "showTitle": false,
     "tableResultSettingsMap": {},
     "title": ""
    }
   },
   "outputs": [
    {
     "output_type": "display_data",
     "data": {
      "image/png": "[encoded data removed]"
     },
     "metadata": {
      "application/vnd.databricks.v1+output": {
       "addedWidgets": {},
       "arguments": {},
       "data": "data:image/png;base64,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\n",
       "datasetInfos": [],
       "metadata": {},
       "removedWidgets": [],
       "type": "image"
      }
     },
     "output_type": "display_data"
    }
   ],
   "source": [
    "# Gráfico de Média de Passageiros por Hora\n",
    "df = passengers_by_hour.toPandas()\n",
    "\n",
    "import matplotlib.pyplot as plt\n",
    "\n",
    "plt.figure(figsize=(12, 6))\n",
    "plt.bar(df['pickup_hour'], df['avg_passengers'], color='#FFD700')\n",
    "plt.title(f'Média de Passageiros por Hora - {month}/{year}')\n",
    "plt.xlabel('Hora do Dia')\n",
    "plt.ylabel('Média de Passageiros')\n",
    "plt.xticks(range(0, 24))\n",
    "plt.grid(axis='y', linestyle='--', alpha=0.7)\n",
    "plt.show()"
   ]
  },
  {
   "cell_type": "markdown",
   "metadata": {
    "application/vnd.databricks.v1+cell": {
     "cellMetadata": {
      "byteLimit": 2048000,
      "rowLimit": 10000
     },
     "inputWidgets": {},
     "nuid": "2a9e58c4-c5ba-4dfc-b5d1-29667631621c",
     "showTitle": false,
     "tableResultSettingsMap": {},
     "title": ""
    }
   },
   "source": [
    "## Exra 2 - Cálculo do Tempo Médio de Duração da Corrida"
   ]
  },
  {
   "cell_type": "code",
   "execution_count": 0,
   "metadata": {
    "application/vnd.databricks.v1+cell": {
     "cellMetadata": {
      "byteLimit": 2048000,
      "rowLimit": 10000
     },
     "inputWidgets": {},
     "nuid": "c2e8b17c-3614-4b96-b4b2-d529a688909e",
     "showTitle": false,
     "tableResultSettingsMap": {},
     "title": ""
    }
   },
   "outputs": [
    {
     "output_type": "display_data",
     "data": {
      "image/png": "[encoded data removed]"
     },
     "metadata": {
      "application/vnd.databricks.v1+output": {
       "addedWidgets": {},
       "arguments": {},
       "data": "data:image/png;base64,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\n",
       "datasetInfos": [],
       "metadata": {},
       "removedWidgets": [],
       "type": "image"
      }
     },
     "output_type": "display_data"
    },
    {
     "output_type": "display_data",
     "data": {
      "text/html": [
       "<style scoped>\n",
       "  .table-result-container {\n",
       "    max-height: 300px;\n",
       "    overflow: auto;\n",
       "  }\n",
       "  table, th, td {\n",
       "    border: 1px solid black;\n",
       "    border-collapse: collapse;\n",
       "  }\n",
       "  th, td {\n",
       "    padding: 5px;\n",
       "  }\n",
       "  th {\n",
       "    text-align: left;\n",
       "  }\n",
       "</style><div class='table-result-container'><table class='table-result'><thead style='background-color: white'><tr><th>vehicle_type</th><th>avg_duration</th><th>total_trips</th><th>avg_amount</th></tr></thead><tbody><tr><td>green</td><td>20.02</td><td>69174</td><td>23.82</td></tr><tr><td>yellow</td><td>18.07</td><td>3513649</td><td>28.96</td></tr></tbody></table></div>"
      ]
     },
     "metadata": {
      "application/vnd.databricks.v1+output": {
       "addedWidgets": {},
       "aggData": [],
       "aggError": "",
       "aggOverflow": false,
       "aggSchema": [],
       "aggSeriesLimitReached": false,
       "aggType": "",
       "arguments": {},
       "columnCustomDisplayInfos": {},
       "data": [
        [
         "green",
         20.02,
         69174,
         23.82
        ],
        [
         "yellow",
         18.07,
         3513649,
         28.96
        ]
       ],
       "datasetInfos": [],
       "dbfsResultPath": null,
       "isJsonSchema": true,
       "metadata": {},
       "overflow": false,
       "plotOptions": {
        "customPlotOptions": {},
        "displayType": "table",
        "pivotAggregation": null,
        "pivotColumns": null,
        "xColumns": null,
        "yColumns": null
       },
       "removedWidgets": [],
       "schema": [
        {
         "metadata": "{}",
         "name": "vehicle_type",
         "type": "\"string\""
        },
        {
         "metadata": "{}",
         "name": "avg_duration",
         "type": "\"double\""
        },
        {
         "metadata": "{}",
         "name": "total_trips",
         "type": "\"long\""
        },
        {
         "metadata": "{}",
         "name": "avg_amount",
         "type": "\"double\""
        }
       ],
       "type": "table"
      }
     },
     "output_type": "display_data"
    }
   ],
   "source": [
    "duration_stats = (spark.table(\"case_ifood_nyc_taxi.gold_unified_taxi\")\n",
    "    .filter(\n",
    "        (col(\"meta_file_year\") == year) &\n",
    "        (col(\"meta_file_month\") == month)\n",
    "    )\n",
    "    .groupBy(\"vehicle_type\")\n",
    "    .agg(\n",
    "        round(avg(\"trip_duration_minutes\"), 2).alias(\"avg_duration\"),\n",
    "        count(\"*\").alias(\"total_trips\"),\n",
    "        round(avg(\"total_amount\"), 2).alias(\"avg_amount\")\n",
    "    )\n",
    "    .orderBy(\"vehicle_type\")\n",
    ")\n",
    "\n",
    "# Converter para Pandas para visualização\n",
    "df = duration_stats.toPandas()\n",
    "\n",
    "# Criar gráfico comparativo\n",
    "plt.figure(figsize=(10, 6))\n",
    "plt.bar(df['vehicle_type'], df['avg_duration'], color=['yellow', 'green'])\n",
    "plt.title('Duração Média das Corridas por Tipo de Táxi (Maio/2023)')\n",
    "plt.xlabel('Tipo de Táxi')\n",
    "plt.ylabel('Duração Média (minutos)')\n",
    "plt.grid(axis='y', linestyle='--', alpha=0.7)\n",
    "\n",
    "# Adicionar valores nas barras\n",
    "for i, value in enumerate(df['avg_duration']):\n",
    "    plt.text(i, value + 0.5, str(value), ha='center')\n",
    "\n",
    "plt.show()\n",
    "\n",
    "display(duration_stats)"
   ]
  }
 ],
 "metadata": {
  "application/vnd.databricks.v1+notebook": {
   "computePreferences": null,
   "dashboards": [],
   "environmentMetadata": {
    "base_environment": "",
    "environment_version": "1"
   },
   "inputWidgetPreferences": null,
   "language": "python",
   "notebookMetadata": {
    "pythonIndentUnit": 4
   },
   "notebookName": "04_analysis_iFood_nycTaxiData",
   "widgets": {
    "analysis_month": {
     "currentValue": "2023-05",
     "nuid": "2c94b210-c45a-4c2a-be14-e7002450f179",
     "typedWidgetInfo": {
      "autoCreated": false,
      "defaultValue": "2023-05",
      "label": "Mês de Análise (YYYY-MM)",
      "name": "analysis_month",
      "options": {
       "widgetDisplayType": "Text",
       "validationRegex": null
      },
      "parameterDataType": "String"
     },
     "widgetInfo": {
      "widgetType": "text",
      "defaultValue": "2023-05",
      "label": "Mês de Análise (YYYY-MM)",
      "name": "analysis_month",
      "options": {
       "widgetType": "text",
       "autoCreated": null,
       "validationRegex": null
      }
     }
    }
   }
  }
 },
 "nbformat": 4,
 "nbformat_minor": 0
}